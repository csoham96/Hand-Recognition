{
  "nbformat": 4,
  "nbformat_minor": 0,
  "metadata": {
    "colab": {
      "name": "Feature_Selection.ipynb",
      "provenance": [],
      "collapsed_sections": []
    },
    "kernelspec": {
      "name": "python3",
      "display_name": "Python 3"
    },
    "language_info": {
      "name": "python"
    }
  },
  "cells": [
    {
      "cell_type": "code",
      "metadata": {
        "id": "bzn4J0ig3T0q"
      },
      "source": [
        "import numpy as np \n",
        "import pandas as pd \n",
        "import seaborn as sns  \n",
        "import matplotlib.pyplot as plt\n",
        "import pandas as pd\n",
        "import warnings\n",
        "warnings.filterwarnings('ignore')"
      ],
      "execution_count": 9,
      "outputs": []
    },
    {
      "cell_type": "code",
      "metadata": {
        "id": "yRyuYASi3cII"
      },
      "source": [
        "df=pd.read_csv(\"https://raw.githubusercontent.com/Vinsocf/emotions/main/Wisconsin-bc-data.csv\")\n",
        "# will change the repository "
      ],
      "execution_count": 10,
      "outputs": []
    },
    {
      "cell_type": "code",
      "metadata": {
        "id": "1ExAa7cO3lTI"
      },
      "source": [
        "x=df.drop(['Unnamed: 32','id','diagnosis'],axis=1)\n",
        "y=df['diagnosis']"
      ],
      "execution_count": 63,
      "outputs": []
    },
    {
      "cell_type": "markdown",
      "metadata": {
        "id": "Z79n3gKC30x2"
      },
      "source": [
        "# **Feature selection with correlation**"
      ]
    },
    {
      "cell_type": "code",
      "metadata": {
        "colab": {
          "base_uri": "https://localhost:8080/",
          "height": 545
        },
        "id": "MZy3F4Vx3w_2",
        "outputId": "7ef4a024-175e-4da5-eb87-0ab6f1320dfe"
      },
      "source": [
        "drop_list_cor = ['perimeter_mean','radius_mean','compactness_mean','concave points_mean','radius_se','perimeter_se','radius_worst','perimeter_worst','compactness_worst','concave points_worst','compactness_se','concave points_se','texture_worst','area_worst']\n",
        "x_1 = x.drop(drop_list_cor,axis = 1 )        \n",
        "x_1.head()\n",
        "selected_feature_corr=x_1.columns\n",
        "fs_corr = np.ones(len(x_1.columns)).astype(int)\n",
        "fs_corr = pd.DataFrame(fs_corr, columns = [\"Corr\"], index=x_1.columns)\n",
        "fs_corr"
      ],
      "execution_count": 12,
      "outputs": [
        {
          "output_type": "execute_result",
          "data": {
            "text/html": [
              "<div>\n",
              "<style scoped>\n",
              "    .dataframe tbody tr th:only-of-type {\n",
              "        vertical-align: middle;\n",
              "    }\n",
              "\n",
              "    .dataframe tbody tr th {\n",
              "        vertical-align: top;\n",
              "    }\n",
              "\n",
              "    .dataframe thead th {\n",
              "        text-align: right;\n",
              "    }\n",
              "</style>\n",
              "<table border=\"1\" class=\"dataframe\">\n",
              "  <thead>\n",
              "    <tr style=\"text-align: right;\">\n",
              "      <th></th>\n",
              "      <th>Corr</th>\n",
              "    </tr>\n",
              "  </thead>\n",
              "  <tbody>\n",
              "    <tr>\n",
              "      <th>texture_mean</th>\n",
              "      <td>1</td>\n",
              "    </tr>\n",
              "    <tr>\n",
              "      <th>area_mean</th>\n",
              "      <td>1</td>\n",
              "    </tr>\n",
              "    <tr>\n",
              "      <th>smoothness_mean</th>\n",
              "      <td>1</td>\n",
              "    </tr>\n",
              "    <tr>\n",
              "      <th>concavity_mean</th>\n",
              "      <td>1</td>\n",
              "    </tr>\n",
              "    <tr>\n",
              "      <th>symmetry_mean</th>\n",
              "      <td>1</td>\n",
              "    </tr>\n",
              "    <tr>\n",
              "      <th>fractal_dimension_mean</th>\n",
              "      <td>1</td>\n",
              "    </tr>\n",
              "    <tr>\n",
              "      <th>texture_se</th>\n",
              "      <td>1</td>\n",
              "    </tr>\n",
              "    <tr>\n",
              "      <th>area_se</th>\n",
              "      <td>1</td>\n",
              "    </tr>\n",
              "    <tr>\n",
              "      <th>smoothness_se</th>\n",
              "      <td>1</td>\n",
              "    </tr>\n",
              "    <tr>\n",
              "      <th>concavity_se</th>\n",
              "      <td>1</td>\n",
              "    </tr>\n",
              "    <tr>\n",
              "      <th>symmetry_se</th>\n",
              "      <td>1</td>\n",
              "    </tr>\n",
              "    <tr>\n",
              "      <th>fractal_dimension_se</th>\n",
              "      <td>1</td>\n",
              "    </tr>\n",
              "    <tr>\n",
              "      <th>smoothness_worst</th>\n",
              "      <td>1</td>\n",
              "    </tr>\n",
              "    <tr>\n",
              "      <th>concavity_worst</th>\n",
              "      <td>1</td>\n",
              "    </tr>\n",
              "    <tr>\n",
              "      <th>symmetry_worst</th>\n",
              "      <td>1</td>\n",
              "    </tr>\n",
              "    <tr>\n",
              "      <th>fractal_dimension_worst</th>\n",
              "      <td>1</td>\n",
              "    </tr>\n",
              "  </tbody>\n",
              "</table>\n",
              "</div>"
            ],
            "text/plain": [
              "                         Corr\n",
              "texture_mean                1\n",
              "area_mean                   1\n",
              "smoothness_mean             1\n",
              "concavity_mean              1\n",
              "symmetry_mean               1\n",
              "fractal_dimension_mean      1\n",
              "texture_se                  1\n",
              "area_se                     1\n",
              "smoothness_se               1\n",
              "concavity_se                1\n",
              "symmetry_se                 1\n",
              "fractal_dimension_se        1\n",
              "smoothness_worst            1\n",
              "concavity_worst             1\n",
              "symmetry_worst              1\n",
              "fractal_dimension_worst     1"
            ]
          },
          "metadata": {},
          "execution_count": 12
        }
      ]
    },
    {
      "cell_type": "code",
      "metadata": {
        "id": "XXdIk0sg3623"
      },
      "source": [
        "fs_corr = fs_corr.reset_index()"
      ],
      "execution_count": 13,
      "outputs": []
    },
    {
      "cell_type": "code",
      "metadata": {
        "colab": {
          "base_uri": "https://localhost:8080/",
          "height": 204
        },
        "id": "k1gHr3tQ39jm",
        "outputId": "3a66c10e-1464-4b44-ce0c-9bff0a5e54f1"
      },
      "source": [
        "fs_corr.head()"
      ],
      "execution_count": 14,
      "outputs": [
        {
          "output_type": "execute_result",
          "data": {
            "text/html": [
              "<div>\n",
              "<style scoped>\n",
              "    .dataframe tbody tr th:only-of-type {\n",
              "        vertical-align: middle;\n",
              "    }\n",
              "\n",
              "    .dataframe tbody tr th {\n",
              "        vertical-align: top;\n",
              "    }\n",
              "\n",
              "    .dataframe thead th {\n",
              "        text-align: right;\n",
              "    }\n",
              "</style>\n",
              "<table border=\"1\" class=\"dataframe\">\n",
              "  <thead>\n",
              "    <tr style=\"text-align: right;\">\n",
              "      <th></th>\n",
              "      <th>index</th>\n",
              "      <th>Corr</th>\n",
              "    </tr>\n",
              "  </thead>\n",
              "  <tbody>\n",
              "    <tr>\n",
              "      <th>0</th>\n",
              "      <td>texture_mean</td>\n",
              "      <td>1</td>\n",
              "    </tr>\n",
              "    <tr>\n",
              "      <th>1</th>\n",
              "      <td>area_mean</td>\n",
              "      <td>1</td>\n",
              "    </tr>\n",
              "    <tr>\n",
              "      <th>2</th>\n",
              "      <td>smoothness_mean</td>\n",
              "      <td>1</td>\n",
              "    </tr>\n",
              "    <tr>\n",
              "      <th>3</th>\n",
              "      <td>concavity_mean</td>\n",
              "      <td>1</td>\n",
              "    </tr>\n",
              "    <tr>\n",
              "      <th>4</th>\n",
              "      <td>symmetry_mean</td>\n",
              "      <td>1</td>\n",
              "    </tr>\n",
              "  </tbody>\n",
              "</table>\n",
              "</div>"
            ],
            "text/plain": [
              "             index  Corr\n",
              "0     texture_mean     1\n",
              "1        area_mean     1\n",
              "2  smoothness_mean     1\n",
              "3   concavity_mean     1\n",
              "4    symmetry_mean     1"
            ]
          },
          "metadata": {},
          "execution_count": 14
        }
      ]
    },
    {
      "cell_type": "code",
      "metadata": {
        "colab": {
          "base_uri": "https://localhost:8080/",
          "height": 942
        },
        "id": "S-SBQy9q3_YP",
        "outputId": "80aaa886-3cec-4d33-ba6c-8897f05a5cfd"
      },
      "source": [
        "f,ax = plt.subplots(figsize=(14, 14))\n",
        "sns.heatmap(x_1.corr(), annot=True, linewidths=.5, fmt= '.1f',ax=ax)"
      ],
      "execution_count": 15,
      "outputs": [
        {
          "output_type": "execute_result",
          "data": {
            "text/plain": [
              "<matplotlib.axes._subplots.AxesSubplot at 0x7fc329e4b290>"
            ]
          },
          "metadata": {},
          "execution_count": 15
        },
        {
          "output_type": "display_data",
          "data": {
            "image/png": "[encoded data removed]",
            "text/plain": [
              "<Figure size 1008x1008 with 2 Axes>"
            ]
          },
          "metadata": {
            "needs_background": "light"
          }
        }
      ]
    },
    {
      "cell_type": "code",
      "metadata": {
        "colab": {
          "base_uri": "https://localhost:8080/",
          "height": 299
        },
        "id": "0R09SF294Bw2",
        "outputId": "cfc39153-ba01-4bd5-e8ed-61f404830c10"
      },
      "source": [
        "from sklearn.model_selection import train_test_split\n",
        "from sklearn.ensemble import RandomForestClassifier\n",
        "from sklearn.metrics import f1_score,confusion_matrix\n",
        "from sklearn.metrics import accuracy_score\n",
        "\n",
        "# split data train 70 % and test 30 %\n",
        "x_train, x_test, y_train, y_test = train_test_split(x_1, y, test_size=0.3, random_state=42)\n",
        "\n",
        "#random forest classifier with n_estimators=10 (default)\n",
        "clf_rf = RandomForestClassifier(random_state=43)      \n",
        "clr_rf = clf_rf.fit(x_train,y_train)\n",
        "\n",
        "ac = accuracy_score(y_test,clf_rf.predict(x_test))\n",
        "print('Accuracy is: ',ac)\n",
        "cm = confusion_matrix(y_test,clf_rf.predict(x_test))\n",
        "sns.heatmap(cm,annot=True,fmt=\"d\")\n"
      ],
      "execution_count": 16,
      "outputs": [
        {
          "output_type": "stream",
          "name": "stdout",
          "text": [
            "Accuracy is:  0.9649122807017544\n"
          ]
        },
        {
          "output_type": "execute_result",
          "data": {
            "text/plain": [
              "<matplotlib.axes._subplots.AxesSubplot at 0x7fc31ff988d0>"
            ]
          },
          "metadata": {},
          "execution_count": 16
        },
        {
          "output_type": "display_data",
          "data": {
            "image/png": "[encoded data removed]",
            "text/plain": [
              "<Figure size 432x288 with 2 Axes>"
            ]
          },
          "metadata": {
            "needs_background": "light"
          }
        }
      ]
    },
    {
      "cell_type": "markdown",
      "metadata": {
        "id": "h4Qw4ybm4PgA"
      },
      "source": [
        "# **Univariate feature selection (Chi-square)**"
      ]
    },
    {
      "cell_type": "code",
      "metadata": {
        "id": "5cQiUTdh4LYv"
      },
      "source": [
        "from sklearn.feature_selection import SelectKBest\n",
        "from sklearn.feature_selection import chi2\n",
        "select_feature = SelectKBest(chi2, k=10).fit(x_train, y_train)\n"
      ],
      "execution_count": 17,
      "outputs": []
    },
    {
      "cell_type": "code",
      "metadata": {
        "colab": {
          "base_uri": "https://localhost:8080/"
        },
        "id": "PAAEYo4s4TDP",
        "outputId": "6431f97d-d719-471d-ec96-32a5536dd01a"
      },
      "source": [
        "import numpy\n",
        "numpy.set_printoptions(suppress=True)\n",
        "print('Score list:', select_feature.scores_)"
      ],
      "execution_count": 18,
      "outputs": [
        {
          "output_type": "stream",
          "name": "stdout",
          "text": [
            "Score list: [   60.69164331 36689.9556596      0.10001518    13.05476497\n",
            "     0.19598285     0.00034258     0.0407131   6127.41067039\n",
            "     0.0013247      0.69289672     0.00139558     0.00265927\n",
            "     0.26322631    25.88581167     1.00635138     0.12308735]\n"
          ]
        }
      ]
    },
    {
      "cell_type": "code",
      "metadata": {
        "id": "HbwRuYpA4U5f"
      },
      "source": [
        "from pandas import DataFrame\n",
        "pd.options.display.float_format = '{:.2f}'.format\n",
        "fs_chi2 = pd.DataFrame(select_feature.scores_, columns = [\"Chi_Square\"], index=x_train.columns)"
      ],
      "execution_count": 19,
      "outputs": []
    },
    {
      "cell_type": "code",
      "metadata": {
        "id": "CVapz1bd4YQC"
      },
      "source": [
        "fs_chi2 = fs_chi2.reset_index()"
      ],
      "execution_count": 20,
      "outputs": []
    },
    {
      "cell_type": "code",
      "metadata": {
        "colab": {
          "base_uri": "https://localhost:8080/",
          "height": 545
        },
        "id": "NExc9bZZ4aNK",
        "outputId": "07e25be7-1439-4f2a-8529-915c9ba418cf"
      },
      "source": [
        "fs_chi2 = fs_chi2.sort_values('Chi_Square',ascending=0)\n",
        "fs_chi2"
      ],
      "execution_count": 21,
      "outputs": [
        {
          "output_type": "execute_result",
          "data": {
            "text/html": [
              "<div>\n",
              "<style scoped>\n",
              "    .dataframe tbody tr th:only-of-type {\n",
              "        vertical-align: middle;\n",
              "    }\n",
              "\n",
              "    .dataframe tbody tr th {\n",
              "        vertical-align: top;\n",
              "    }\n",
              "\n",
              "    .dataframe thead th {\n",
              "        text-align: right;\n",
              "    }\n",
              "</style>\n",
              "<table border=\"1\" class=\"dataframe\">\n",
              "  <thead>\n",
              "    <tr style=\"text-align: right;\">\n",
              "      <th></th>\n",
              "      <th>index</th>\n",
              "      <th>Chi_Square</th>\n",
              "    </tr>\n",
              "  </thead>\n",
              "  <tbody>\n",
              "    <tr>\n",
              "      <th>1</th>\n",
              "      <td>area_mean</td>\n",
              "      <td>36689.96</td>\n",
              "    </tr>\n",
              "    <tr>\n",
              "      <th>7</th>\n",
              "      <td>area_se</td>\n",
              "      <td>6127.41</td>\n",
              "    </tr>\n",
              "    <tr>\n",
              "      <th>0</th>\n",
              "      <td>texture_mean</td>\n",
              "      <td>60.69</td>\n",
              "    </tr>\n",
              "    <tr>\n",
              "      <th>13</th>\n",
              "      <td>concavity_worst</td>\n",
              "      <td>25.89</td>\n",
              "    </tr>\n",
              "    <tr>\n",
              "      <th>3</th>\n",
              "      <td>concavity_mean</td>\n",
              "      <td>13.05</td>\n",
              "    </tr>\n",
              "    <tr>\n",
              "      <th>14</th>\n",
              "      <td>symmetry_worst</td>\n",
              "      <td>1.01</td>\n",
              "    </tr>\n",
              "    <tr>\n",
              "      <th>9</th>\n",
              "      <td>concavity_se</td>\n",
              "      <td>0.69</td>\n",
              "    </tr>\n",
              "    <tr>\n",
              "      <th>12</th>\n",
              "      <td>smoothness_worst</td>\n",
              "      <td>0.26</td>\n",
              "    </tr>\n",
              "    <tr>\n",
              "      <th>4</th>\n",
              "      <td>symmetry_mean</td>\n",
              "      <td>0.20</td>\n",
              "    </tr>\n",
              "    <tr>\n",
              "      <th>15</th>\n",
              "      <td>fractal_dimension_worst</td>\n",
              "      <td>0.12</td>\n",
              "    </tr>\n",
              "    <tr>\n",
              "      <th>2</th>\n",
              "      <td>smoothness_mean</td>\n",
              "      <td>0.10</td>\n",
              "    </tr>\n",
              "    <tr>\n",
              "      <th>6</th>\n",
              "      <td>texture_se</td>\n",
              "      <td>0.04</td>\n",
              "    </tr>\n",
              "    <tr>\n",
              "      <th>11</th>\n",
              "      <td>fractal_dimension_se</td>\n",
              "      <td>0.00</td>\n",
              "    </tr>\n",
              "    <tr>\n",
              "      <th>10</th>\n",
              "      <td>symmetry_se</td>\n",
              "      <td>0.00</td>\n",
              "    </tr>\n",
              "    <tr>\n",
              "      <th>8</th>\n",
              "      <td>smoothness_se</td>\n",
              "      <td>0.00</td>\n",
              "    </tr>\n",
              "    <tr>\n",
              "      <th>5</th>\n",
              "      <td>fractal_dimension_mean</td>\n",
              "      <td>0.00</td>\n",
              "    </tr>\n",
              "  </tbody>\n",
              "</table>\n",
              "</div>"
            ],
            "text/plain": [
              "                      index  Chi_Square\n",
              "1                 area_mean    36689.96\n",
              "7                   area_se     6127.41\n",
              "0              texture_mean       60.69\n",
              "13          concavity_worst       25.89\n",
              "3            concavity_mean       13.05\n",
              "14           symmetry_worst        1.01\n",
              "9              concavity_se        0.69\n",
              "12         smoothness_worst        0.26\n",
              "4             symmetry_mean        0.20\n",
              "15  fractal_dimension_worst        0.12\n",
              "2           smoothness_mean        0.10\n",
              "6                texture_se        0.04\n",
              "11     fractal_dimension_se        0.00\n",
              "10              symmetry_se        0.00\n",
              "8             smoothness_se        0.00\n",
              "5    fractal_dimension_mean        0.00"
            ]
          },
          "metadata": {},
          "execution_count": 21
        }
      ]
    },
    {
      "cell_type": "markdown",
      "metadata": {
        "id": "vAhnU9xM4fIi"
      },
      "source": [
        "# **Recursive feature elimination (RFE) with random forest**"
      ]
    },
    {
      "cell_type": "code",
      "metadata": {
        "id": "TTGiReH74buJ"
      },
      "source": [
        "from sklearn.feature_selection import RFE\n",
        "clf_rf_3 = RandomForestClassifier()      \n",
        "rfe = RFE(estimator=clf_rf_3, n_features_to_select=10, step=1)\n",
        "rfe = rfe.fit(x_train, y_train)\n"
      ],
      "execution_count": 22,
      "outputs": []
    },
    {
      "cell_type": "code",
      "metadata": {
        "colab": {
          "base_uri": "https://localhost:8080/"
        },
        "id": "zEIXm0YS4iGR",
        "outputId": "b2a6a077-4916-40c6-b55d-d1408b512e25"
      },
      "source": [
        "fs_rfe = DataFrame(rfe.support_, columns = [\"RFE\"], index=x_train.columns)\n",
        "fs_rfe = fs_rfe.reset_index()\n",
        "print('total features: {}'.format((x_train.shape[1])))\n",
        "print('selected features: {}'.format(len(x_train.columns[rfe.support_])))\n",
        "print('Chosen best 10 feature by rfe:',x_train.columns[rfe.support_])"
      ],
      "execution_count": 23,
      "outputs": [
        {
          "output_type": "stream",
          "name": "stdout",
          "text": [
            "total features: 16\n",
            "selected features: 10\n",
            "Chosen best 10 feature by rfe: Index(['texture_mean', 'area_mean', 'smoothness_mean', 'concavity_mean',\n",
            "       'fractal_dimension_mean', 'area_se', 'concavity_se', 'smoothness_worst',\n",
            "       'concavity_worst', 'symmetry_worst'],\n",
            "      dtype='object')\n"
          ]
        }
      ]
    },
    {
      "cell_type": "code",
      "metadata": {
        "id": "M3Ol9IUm4lux"
      },
      "source": [
        "from sklearn.feature_selection import RFECV\n",
        "\n",
        "clf_rf_4 = RandomForestClassifier() \n",
        "rfecv = RFECV(estimator=clf_rf_4, step=1, cv=5,scoring='accuracy')   #5-fold cross-validation\n",
        "rfecv = rfecv.fit(x_train, y_train)\n"
      ],
      "execution_count": 24,
      "outputs": []
    },
    {
      "cell_type": "code",
      "metadata": {
        "colab": {
          "base_uri": "https://localhost:8080/"
        },
        "id": "1dLRNaiY4oVF",
        "outputId": "28bf60d4-a1d0-4b7e-e69c-2d74aed57de6"
      },
      "source": [
        "fs_rfecv = DataFrame(rfecv.support_, columns = [\"RFECV\"], index=x_train.columns)\n",
        "fs_rfecv = fs_rfecv.reset_index()\n",
        "print('total features: {}'.format((x_train.shape[1])))\n",
        "print('selected features: {}'.format(len(x_train.columns[rfecv.support_])))\n",
        "print('Optimal number of features :', rfecv.n_features_)\n",
        "print('Best features by rfecv:',x_train.columns[rfecv.support_])"
      ],
      "execution_count": 25,
      "outputs": [
        {
          "output_type": "stream",
          "name": "stdout",
          "text": [
            "total features: 16\n",
            "selected features: 8\n",
            "Optimal number of features : 8\n",
            "Best features by rfecv: Index(['texture_mean', 'area_mean', 'concavity_mean', 'area_se',\n",
            "       'concavity_se', 'smoothness_worst', 'concavity_worst',\n",
            "       'symmetry_worst'],\n",
            "      dtype='object')\n"
          ]
        }
      ]
    },
    {
      "cell_type": "code",
      "metadata": {
        "colab": {
          "base_uri": "https://localhost:8080/",
          "height": 304
        },
        "id": "pb9zQ11n4s_9",
        "outputId": "dd53bf96-730f-4cf4-9b69-5a1d2a03d479"
      },
      "source": [
        "import matplotlib.pyplot as plt\n",
        "plt.figure()\n",
        "plt.xlabel(\"Number of features selected\")\n",
        "plt.ylabel(\"Cross validation score of number of selected features\")\n",
        "plt.plot(range(1, len(rfecv.grid_scores_) + 1), rfecv.grid_scores_)\n",
        "plt.show()"
      ],
      "execution_count": 26,
      "outputs": [
        {
          "output_type": "display_data",
          "data": {
            "image/png": "[encoded data removed]",
            "text/plain": [
              "<Figure size 432x288 with 1 Axes>"
            ]
          },
          "metadata": {
            "needs_background": "light"
          }
        }
      ]
    },
    {
      "cell_type": "markdown",
      "metadata": {
        "id": "FI-rLiJL4wox"
      },
      "source": [
        "# **Tree based feature selection and random forest classification**"
      ]
    },
    {
      "cell_type": "code",
      "metadata": {
        "colab": {
          "base_uri": "https://localhost:8080/",
          "height": 1000
        },
        "id": "_QJB4sz24vFF",
        "outputId": "c2f97295-93e0-4ed5-b5d7-5ee65eb26ebd"
      },
      "source": [
        "clf_rf_5 = RandomForestClassifier()      \n",
        "clr_rf_5 = clf_rf_5.fit(x_train,y_train)\n",
        "importances = clr_rf_5.feature_importances_\n",
        "std = np.std([tree.feature_importances_ for tree in clf_rf.estimators_],\n",
        "             axis=0)\n",
        "indices = np.argsort(importances)[::-1]\n",
        "\n",
        "print(\"Feature ranking:\")\n",
        "\n",
        "for f in range(x_train.shape[1]):\n",
        "    print(\"%d. feature %d (%f)\" % (f + 1, indices[f], importances[indices[f]]))\n",
        "\n",
        "plt.figure(1, figsize=(14, 13))\n",
        "plt.title(\"Feature importances\")\n",
        "plt.bar(range(x_train.shape[1]), importances[indices],\n",
        "       color=\"g\", yerr=std[indices], align=\"center\")\n",
        "plt.xticks(range(x_train.shape[1]), x_train.columns[indices],rotation=90)\n",
        "plt.xlim([-1, x_train.shape[1]])\n",
        "plt.show()\n"
      ],
      "execution_count": 27,
      "outputs": [
        {
          "output_type": "stream",
          "name": "stdout",
          "text": [
            "Feature ranking:\n",
            "1. feature 3 (0.232390)\n",
            "2. feature 1 (0.208603)\n",
            "3. feature 13 (0.146399)\n",
            "4. feature 7 (0.131118)\n",
            "5. feature 0 (0.046548)\n",
            "6. feature 14 (0.046296)\n",
            "7. feature 9 (0.039968)\n",
            "8. feature 12 (0.034851)\n",
            "9. feature 5 (0.019015)\n",
            "10. feature 11 (0.016392)\n",
            "11. feature 15 (0.015056)\n",
            "12. feature 10 (0.013999)\n",
            "13. feature 2 (0.013764)\n",
            "14. feature 8 (0.013002)\n",
            "15. feature 6 (0.012810)\n",
            "16. feature 4 (0.009791)\n"
          ]
        },
        {
          "output_type": "display_data",
          "data": {
            "image/png": "[encoded data removed]",
            "text/plain": [
              "<Figure size 1008x936 with 1 Axes>"
            ]
          },
          "metadata": {
            "needs_background": "light"
          }
        }
      ]
    },
    {
      "cell_type": "code",
      "metadata": {
        "colab": {
          "base_uri": "https://localhost:8080/"
        },
        "id": "NPJLhpdv41ym",
        "outputId": "f3c6d6cd-16d3-4f6a-b9ac-1b5b988176ae"
      },
      "source": [
        "indices = np.argsort(importances)[::-1]\n",
        "indices\n",
        "importances[indices]"
      ],
      "execution_count": 28,
      "outputs": [
        {
          "output_type": "execute_result",
          "data": {
            "text/plain": [
              "array([0.23239003, 0.20860255, 0.14639865, 0.1311184 , 0.04654823,\n",
              "       0.04629579, 0.03996755, 0.03485064, 0.01901509, 0.01639181,\n",
              "       0.01505569, 0.0139991 , 0.01376424, 0.01300165, 0.01280988,\n",
              "       0.0097907 ])"
            ]
          },
          "metadata": {},
          "execution_count": 28
        }
      ]
    },
    {
      "cell_type": "code",
      "metadata": {
        "id": "EugwG2QT45GO"
      },
      "source": [
        "fs_rf = DataFrame(clr_rf_5.feature_importances_, columns = [\"RF\"], index=x_train.columns)\n",
        "fs_rf = fs_rf.reset_index()"
      ],
      "execution_count": 29,
      "outputs": []
    },
    {
      "cell_type": "code",
      "metadata": {
        "colab": {
          "base_uri": "https://localhost:8080/",
          "height": 545
        },
        "id": "leVklvry4_qO",
        "outputId": "d9f41050-fde3-49ac-944d-499d07602e90"
      },
      "source": [
        "fs_rf = fs_rf.sort_values('RF',ascending=0)\n",
        "fs_rf"
      ],
      "execution_count": 30,
      "outputs": [
        {
          "output_type": "execute_result",
          "data": {
            "text/html": [
              "<div>\n",
              "<style scoped>\n",
              "    .dataframe tbody tr th:only-of-type {\n",
              "        vertical-align: middle;\n",
              "    }\n",
              "\n",
              "    .dataframe tbody tr th {\n",
              "        vertical-align: top;\n",
              "    }\n",
              "\n",
              "    .dataframe thead th {\n",
              "        text-align: right;\n",
              "    }\n",
              "</style>\n",
              "<table border=\"1\" class=\"dataframe\">\n",
              "  <thead>\n",
              "    <tr style=\"text-align: right;\">\n",
              "      <th></th>\n",
              "      <th>index</th>\n",
              "      <th>RF</th>\n",
              "    </tr>\n",
              "  </thead>\n",
              "  <tbody>\n",
              "    <tr>\n",
              "      <th>3</th>\n",
              "      <td>concavity_mean</td>\n",
              "      <td>0.23</td>\n",
              "    </tr>\n",
              "    <tr>\n",
              "      <th>1</th>\n",
              "      <td>area_mean</td>\n",
              "      <td>0.21</td>\n",
              "    </tr>\n",
              "    <tr>\n",
              "      <th>13</th>\n",
              "      <td>concavity_worst</td>\n",
              "      <td>0.15</td>\n",
              "    </tr>\n",
              "    <tr>\n",
              "      <th>7</th>\n",
              "      <td>area_se</td>\n",
              "      <td>0.13</td>\n",
              "    </tr>\n",
              "    <tr>\n",
              "      <th>0</th>\n",
              "      <td>texture_mean</td>\n",
              "      <td>0.05</td>\n",
              "    </tr>\n",
              "    <tr>\n",
              "      <th>14</th>\n",
              "      <td>symmetry_worst</td>\n",
              "      <td>0.05</td>\n",
              "    </tr>\n",
              "    <tr>\n",
              "      <th>9</th>\n",
              "      <td>concavity_se</td>\n",
              "      <td>0.04</td>\n",
              "    </tr>\n",
              "    <tr>\n",
              "      <th>12</th>\n",
              "      <td>smoothness_worst</td>\n",
              "      <td>0.03</td>\n",
              "    </tr>\n",
              "    <tr>\n",
              "      <th>5</th>\n",
              "      <td>fractal_dimension_mean</td>\n",
              "      <td>0.02</td>\n",
              "    </tr>\n",
              "    <tr>\n",
              "      <th>11</th>\n",
              "      <td>fractal_dimension_se</td>\n",
              "      <td>0.02</td>\n",
              "    </tr>\n",
              "    <tr>\n",
              "      <th>15</th>\n",
              "      <td>fractal_dimension_worst</td>\n",
              "      <td>0.02</td>\n",
              "    </tr>\n",
              "    <tr>\n",
              "      <th>10</th>\n",
              "      <td>symmetry_se</td>\n",
              "      <td>0.01</td>\n",
              "    </tr>\n",
              "    <tr>\n",
              "      <th>2</th>\n",
              "      <td>smoothness_mean</td>\n",
              "      <td>0.01</td>\n",
              "    </tr>\n",
              "    <tr>\n",
              "      <th>8</th>\n",
              "      <td>smoothness_se</td>\n",
              "      <td>0.01</td>\n",
              "    </tr>\n",
              "    <tr>\n",
              "      <th>6</th>\n",
              "      <td>texture_se</td>\n",
              "      <td>0.01</td>\n",
              "    </tr>\n",
              "    <tr>\n",
              "      <th>4</th>\n",
              "      <td>symmetry_mean</td>\n",
              "      <td>0.01</td>\n",
              "    </tr>\n",
              "  </tbody>\n",
              "</table>\n",
              "</div>"
            ],
            "text/plain": [
              "                      index   RF\n",
              "3            concavity_mean 0.23\n",
              "1                 area_mean 0.21\n",
              "13          concavity_worst 0.15\n",
              "7                   area_se 0.13\n",
              "0              texture_mean 0.05\n",
              "14           symmetry_worst 0.05\n",
              "9              concavity_se 0.04\n",
              "12         smoothness_worst 0.03\n",
              "5    fractal_dimension_mean 0.02\n",
              "11     fractal_dimension_se 0.02\n",
              "15  fractal_dimension_worst 0.02\n",
              "10              symmetry_se 0.01\n",
              "2           smoothness_mean 0.01\n",
              "8             smoothness_se 0.01\n",
              "6                texture_se 0.01\n",
              "4             symmetry_mean 0.01"
            ]
          },
          "metadata": {},
          "execution_count": 30
        }
      ]
    },
    {
      "cell_type": "markdown",
      "metadata": {
        "id": "732kp-ux5Efa"
      },
      "source": [
        "# **L1-based feature selection (LinearSVC)**"
      ]
    },
    {
      "cell_type": "code",
      "metadata": {
        "colab": {
          "base_uri": "https://localhost:8080/"
        },
        "id": "Dsr0mS3Q5Bg2",
        "outputId": "e68f7ab9-515c-4d7f-f9af-98b5ccfc4a3d"
      },
      "source": [
        "from sklearn.svm import LinearSVC\n",
        "from sklearn.feature_selection import SelectFromModel\n",
        "lsvc = LinearSVC(C=0.01, penalty=\"l1\", dual=False,max_iter=2000).fit(x_train, y_train) \n",
        "model = SelectFromModel(lsvc, prefit=True) \n",
        "x_new = model.transform(x_train) \n",
        "print(x_train.columns[model.get_support()])"
      ],
      "execution_count": 31,
      "outputs": [
        {
          "output_type": "stream",
          "name": "stdout",
          "text": [
            "Index(['texture_mean', 'area_mean', 'area_se'], dtype='object')\n"
          ]
        }
      ]
    },
    {
      "cell_type": "code",
      "metadata": {
        "colab": {
          "base_uri": "https://localhost:8080/"
        },
        "id": "u5ZSqvFD5HnB",
        "outputId": "a63becf6-6126-465e-e67a-246b31f8e525"
      },
      "source": [
        "fs_l1 = DataFrame(model.get_support(), columns = [\"L1\"], index=x_train.columns)\n",
        "fs_l1 = fs_l1.reset_index()\n",
        "selected_feature_lsvc = x_train.columns[model.get_support()]\n",
        "\n",
        "print('total features: {}'.format((x_train.shape[1])))\n",
        "print('selected features: {}'.format(len(selected_feature_lsvc)))\n",
        "print('Best features by lsvc:',x_train.columns[model.get_support()])"
      ],
      "execution_count": 32,
      "outputs": [
        {
          "output_type": "stream",
          "name": "stdout",
          "text": [
            "total features: 16\n",
            "selected features: 3\n",
            "Best features by lsvc: Index(['texture_mean', 'area_mean', 'area_se'], dtype='object')\n"
          ]
        }
      ]
    },
    {
      "cell_type": "markdown",
      "metadata": {
        "id": "NARF5-BB5M-i"
      },
      "source": [
        "# **Tree-based feature selection (ExtraTrees)**"
      ]
    },
    {
      "cell_type": "code",
      "metadata": {
        "colab": {
          "base_uri": "https://localhost:8080/",
          "height": 1000
        },
        "id": "a54AaM5k5LBR",
        "outputId": "67e6b3ec-195a-43ef-cdf1-34829501e740"
      },
      "source": [
        "from sklearn.ensemble import ExtraTreesClassifier\n",
        "from sklearn.feature_selection import SelectFromModel\n",
        "clf = ExtraTreesClassifier(n_estimators=32,random_state=0)\n",
        "clf.fit(x_train, y_train)\n",
        "clf.feature_importances_ \n",
        "importances = clf.feature_importances_\n",
        "std = np.std([tree.feature_importances_ for tree in clf.estimators_],\n",
        "             axis=0)\n",
        "indices = np.argsort(importances)[::-1]\n",
        "\n",
        "print(\"Feature ranking:\")\n",
        "\n",
        "for f in range(x_train.shape[1]):\n",
        "    print(\"%d. feature %d (%f)\" % (f + 1, indices[f], importances[indices[f]]))\n",
        "\n",
        "plt.figure(1, figsize=(14, 13))\n",
        "plt.title(\"Feature importances\")\n",
        "plt.bar(range(x_train.shape[1]), importances[indices],\n",
        "        color=\"r\", yerr=std[indices], align=\"center\")\n",
        "plt.xticks(range(x_train.shape[1]), x_train.columns[indices],rotation=90)\n",
        "plt.xlim([-1, x_train.shape[1]])\n",
        "plt.show()\n"
      ],
      "execution_count": 33,
      "outputs": [
        {
          "output_type": "stream",
          "name": "stdout",
          "text": [
            "Feature ranking:\n",
            "1. feature 3 (0.191527)\n",
            "2. feature 1 (0.170634)\n",
            "3. feature 13 (0.169116)\n",
            "4. feature 7 (0.123651)\n",
            "5. feature 0 (0.056858)\n",
            "6. feature 14 (0.039312)\n",
            "7. feature 12 (0.035452)\n",
            "8. feature 15 (0.032071)\n",
            "9. feature 9 (0.030526)\n",
            "10. feature 5 (0.029508)\n",
            "11. feature 4 (0.028988)\n",
            "12. feature 2 (0.022375)\n",
            "13. feature 11 (0.020679)\n",
            "14. feature 10 (0.017656)\n",
            "15. feature 6 (0.016700)\n",
            "16. feature 8 (0.014947)\n"
          ]
        },
        {
          "output_type": "display_data",
          "data": {
            "image/png": "[encoded data removed]",
            "text/plain": [
              "<Figure size 1008x936 with 1 Axes>"
            ]
          },
          "metadata": {
            "needs_background": "light"
          }
        }
      ]
    },
    {
      "cell_type": "code",
      "metadata": {
        "colab": {
          "base_uri": "https://localhost:8080/"
        },
        "id": "HEG138Hs5RxB",
        "outputId": "4be7dc5d-6815-49a9-ea2b-705a680e0fbf"
      },
      "source": [
        "selected_feature_extraTrees = x_train.columns[model.get_support()]\n",
        "\n",
        "print('total features: {}'.format((x_train.shape[1])))\n",
        "print('selected features: {}'.format(len(selected_feature_extraTrees)))\n",
        "print('Best features by ExtraTrees:',x_train.columns[model.get_support()])"
      ],
      "execution_count": 34,
      "outputs": [
        {
          "output_type": "stream",
          "name": "stdout",
          "text": [
            "total features: 16\n",
            "selected features: 3\n",
            "Best features by ExtraTrees: Index(['texture_mean', 'area_mean', 'area_se'], dtype='object')\n"
          ]
        }
      ]
    },
    {
      "cell_type": "code",
      "metadata": {
        "id": "ZMtJGTkx5W1-"
      },
      "source": [
        "fs_extratrees=DataFrame(clf.feature_importances_, columns = [\"Extratrees\"], index=x_train.columns)"
      ],
      "execution_count": 35,
      "outputs": []
    },
    {
      "cell_type": "code",
      "metadata": {
        "id": "cIIFygXH5Y0a"
      },
      "source": [
        "fs_extratrees = fs_extratrees.reset_index()"
      ],
      "execution_count": 36,
      "outputs": []
    },
    {
      "cell_type": "code",
      "metadata": {
        "colab": {
          "base_uri": "https://localhost:8080/",
          "height": 545
        },
        "id": "YCPNUlAv5bNG",
        "outputId": "e2c230ee-9182-4838-9438-6eb5763ac24d"
      },
      "source": [
        "fs_extratrees = fs_extratrees.sort_values(['Extratrees'],ascending=0)\n",
        "fs_extratrees"
      ],
      "execution_count": 37,
      "outputs": [
        {
          "output_type": "execute_result",
          "data": {
            "text/html": [
              "<div>\n",
              "<style scoped>\n",
              "    .dataframe tbody tr th:only-of-type {\n",
              "        vertical-align: middle;\n",
              "    }\n",
              "\n",
              "    .dataframe tbody tr th {\n",
              "        vertical-align: top;\n",
              "    }\n",
              "\n",
              "    .dataframe thead th {\n",
              "        text-align: right;\n",
              "    }\n",
              "</style>\n",
              "<table border=\"1\" class=\"dataframe\">\n",
              "  <thead>\n",
              "    <tr style=\"text-align: right;\">\n",
              "      <th></th>\n",
              "      <th>index</th>\n",
              "      <th>Extratrees</th>\n",
              "    </tr>\n",
              "  </thead>\n",
              "  <tbody>\n",
              "    <tr>\n",
              "      <th>3</th>\n",
              "      <td>concavity_mean</td>\n",
              "      <td>0.19</td>\n",
              "    </tr>\n",
              "    <tr>\n",
              "      <th>1</th>\n",
              "      <td>area_mean</td>\n",
              "      <td>0.17</td>\n",
              "    </tr>\n",
              "    <tr>\n",
              "      <th>13</th>\n",
              "      <td>concavity_worst</td>\n",
              "      <td>0.17</td>\n",
              "    </tr>\n",
              "    <tr>\n",
              "      <th>7</th>\n",
              "      <td>area_se</td>\n",
              "      <td>0.12</td>\n",
              "    </tr>\n",
              "    <tr>\n",
              "      <th>0</th>\n",
              "      <td>texture_mean</td>\n",
              "      <td>0.06</td>\n",
              "    </tr>\n",
              "    <tr>\n",
              "      <th>14</th>\n",
              "      <td>symmetry_worst</td>\n",
              "      <td>0.04</td>\n",
              "    </tr>\n",
              "    <tr>\n",
              "      <th>12</th>\n",
              "      <td>smoothness_worst</td>\n",
              "      <td>0.04</td>\n",
              "    </tr>\n",
              "    <tr>\n",
              "      <th>15</th>\n",
              "      <td>fractal_dimension_worst</td>\n",
              "      <td>0.03</td>\n",
              "    </tr>\n",
              "    <tr>\n",
              "      <th>9</th>\n",
              "      <td>concavity_se</td>\n",
              "      <td>0.03</td>\n",
              "    </tr>\n",
              "    <tr>\n",
              "      <th>5</th>\n",
              "      <td>fractal_dimension_mean</td>\n",
              "      <td>0.03</td>\n",
              "    </tr>\n",
              "    <tr>\n",
              "      <th>4</th>\n",
              "      <td>symmetry_mean</td>\n",
              "      <td>0.03</td>\n",
              "    </tr>\n",
              "    <tr>\n",
              "      <th>2</th>\n",
              "      <td>smoothness_mean</td>\n",
              "      <td>0.02</td>\n",
              "    </tr>\n",
              "    <tr>\n",
              "      <th>11</th>\n",
              "      <td>fractal_dimension_se</td>\n",
              "      <td>0.02</td>\n",
              "    </tr>\n",
              "    <tr>\n",
              "      <th>10</th>\n",
              "      <td>symmetry_se</td>\n",
              "      <td>0.02</td>\n",
              "    </tr>\n",
              "    <tr>\n",
              "      <th>6</th>\n",
              "      <td>texture_se</td>\n",
              "      <td>0.02</td>\n",
              "    </tr>\n",
              "    <tr>\n",
              "      <th>8</th>\n",
              "      <td>smoothness_se</td>\n",
              "      <td>0.01</td>\n",
              "    </tr>\n",
              "  </tbody>\n",
              "</table>\n",
              "</div>"
            ],
            "text/plain": [
              "                      index  Extratrees\n",
              "3            concavity_mean        0.19\n",
              "1                 area_mean        0.17\n",
              "13          concavity_worst        0.17\n",
              "7                   area_se        0.12\n",
              "0              texture_mean        0.06\n",
              "14           symmetry_worst        0.04\n",
              "12         smoothness_worst        0.04\n",
              "15  fractal_dimension_worst        0.03\n",
              "9              concavity_se        0.03\n",
              "5    fractal_dimension_mean        0.03\n",
              "4             symmetry_mean        0.03\n",
              "2           smoothness_mean        0.02\n",
              "11     fractal_dimension_se        0.02\n",
              "10              symmetry_se        0.02\n",
              "6                texture_se        0.02\n",
              "8             smoothness_se        0.01"
            ]
          },
          "metadata": {},
          "execution_count": 37
        }
      ]
    },
    {
      "cell_type": "markdown",
      "metadata": {
        "id": "jLT7V7095d9e"
      },
      "source": [
        "# **Vote based feature selection**"
      ]
    },
    {
      "cell_type": "code",
      "metadata": {
        "colab": {
          "base_uri": "https://localhost:8080/"
        },
        "id": "04M4cQdN5cbW",
        "outputId": "32e1ed8f-bac6-4d6a-abae-35b3125a6a55"
      },
      "source": [
        "fs_extratrees.shape"
      ],
      "execution_count": 38,
      "outputs": [
        {
          "output_type": "execute_result",
          "data": {
            "text/plain": [
              "(16, 2)"
            ]
          },
          "metadata": {},
          "execution_count": 38
        }
      ]
    },
    {
      "cell_type": "code",
      "metadata": {
        "id": "eeaabVPW5hie"
      },
      "source": [
        "from functools import reduce\n",
        "dfs = [fs_corr, fs_chi2, fs_rfe, fs_rfecv, fs_rf, fs_l1, fs_extratrees]\n",
        "final_results = reduce(lambda left,right: pd.merge(left,right,on='index'), dfs)"
      ],
      "execution_count": 39,
      "outputs": []
    },
    {
      "cell_type": "code",
      "metadata": {
        "colab": {
          "base_uri": "https://localhost:8080/",
          "height": 204
        },
        "id": "Cb59z4tC5jHu",
        "outputId": "0e47f6f4-cff6-4c3a-956f-01808f9b0378"
      },
      "source": [
        "final_results.head()"
      ],
      "execution_count": 40,
      "outputs": [
        {
          "output_type": "execute_result",
          "data": {
            "text/html": [
              "<div>\n",
              "<style scoped>\n",
              "    .dataframe tbody tr th:only-of-type {\n",
              "        vertical-align: middle;\n",
              "    }\n",
              "\n",
              "    .dataframe tbody tr th {\n",
              "        vertical-align: top;\n",
              "    }\n",
              "\n",
              "    .dataframe thead th {\n",
              "        text-align: right;\n",
              "    }\n",
              "</style>\n",
              "<table border=\"1\" class=\"dataframe\">\n",
              "  <thead>\n",
              "    <tr style=\"text-align: right;\">\n",
              "      <th></th>\n",
              "      <th>index</th>\n",
              "      <th>Corr</th>\n",
              "      <th>Chi_Square</th>\n",
              "      <th>RFE</th>\n",
              "      <th>RFECV</th>\n",
              "      <th>RF</th>\n",
              "      <th>L1</th>\n",
              "      <th>Extratrees</th>\n",
              "    </tr>\n",
              "  </thead>\n",
              "  <tbody>\n",
              "    <tr>\n",
              "      <th>0</th>\n",
              "      <td>texture_mean</td>\n",
              "      <td>1</td>\n",
              "      <td>60.69</td>\n",
              "      <td>True</td>\n",
              "      <td>True</td>\n",
              "      <td>0.05</td>\n",
              "      <td>True</td>\n",
              "      <td>0.06</td>\n",
              "    </tr>\n",
              "    <tr>\n",
              "      <th>1</th>\n",
              "      <td>area_mean</td>\n",
              "      <td>1</td>\n",
              "      <td>36689.96</td>\n",
              "      <td>True</td>\n",
              "      <td>True</td>\n",
              "      <td>0.21</td>\n",
              "      <td>True</td>\n",
              "      <td>0.17</td>\n",
              "    </tr>\n",
              "    <tr>\n",
              "      <th>2</th>\n",
              "      <td>smoothness_mean</td>\n",
              "      <td>1</td>\n",
              "      <td>0.10</td>\n",
              "      <td>True</td>\n",
              "      <td>False</td>\n",
              "      <td>0.01</td>\n",
              "      <td>False</td>\n",
              "      <td>0.02</td>\n",
              "    </tr>\n",
              "    <tr>\n",
              "      <th>3</th>\n",
              "      <td>concavity_mean</td>\n",
              "      <td>1</td>\n",
              "      <td>13.05</td>\n",
              "      <td>True</td>\n",
              "      <td>True</td>\n",
              "      <td>0.23</td>\n",
              "      <td>False</td>\n",
              "      <td>0.19</td>\n",
              "    </tr>\n",
              "    <tr>\n",
              "      <th>4</th>\n",
              "      <td>symmetry_mean</td>\n",
              "      <td>1</td>\n",
              "      <td>0.20</td>\n",
              "      <td>False</td>\n",
              "      <td>False</td>\n",
              "      <td>0.01</td>\n",
              "      <td>False</td>\n",
              "      <td>0.03</td>\n",
              "    </tr>\n",
              "  </tbody>\n",
              "</table>\n",
              "</div>"
            ],
            "text/plain": [
              "             index  Corr  Chi_Square    RFE  RFECV   RF     L1  Extratrees\n",
              "0     texture_mean     1       60.69   True   True 0.05   True        0.06\n",
              "1        area_mean     1    36689.96   True   True 0.21   True        0.17\n",
              "2  smoothness_mean     1        0.10   True  False 0.01  False        0.02\n",
              "3   concavity_mean     1       13.05   True   True 0.23  False        0.19\n",
              "4    symmetry_mean     1        0.20  False  False 0.01  False        0.03"
            ]
          },
          "metadata": {},
          "execution_count": 40
        }
      ]
    },
    {
      "cell_type": "code",
      "metadata": {
        "colab": {
          "base_uri": "https://localhost:8080/"
        },
        "id": "5fXWnymx5k1O",
        "outputId": "a89c6a25-66da-4db9-80c8-6bad96771cb8"
      },
      "source": [
        "final_results.columns"
      ],
      "execution_count": 41,
      "outputs": [
        {
          "output_type": "execute_result",
          "data": {
            "text/plain": [
              "Index(['index', 'Corr', 'Chi_Square', 'RFE', 'RFECV', 'RF', 'L1',\n",
              "       'Extratrees'],\n",
              "      dtype='object')"
            ]
          },
          "metadata": {},
          "execution_count": 41
        }
      ]
    },
    {
      "cell_type": "code",
      "metadata": {
        "id": "NcPefpWV5mYe"
      },
      "source": [
        "columns = ['Chi_Square', 'RF', 'Extratrees']\n",
        "score_table = pd.DataFrame({},[])\n",
        "score_table['index'] = final_results['index']\n",
        "for i in columns:\n",
        "    score_table[i] = final_results['index'].isin(list(final_results.nlargest(10,i)['index'])).astype(int)\n",
        "\n",
        "score_table['RFE'] = final_results['RFE'].astype(int)\n",
        "score_table['RFECV'] = final_results['RFECV'].astype(int)\n",
        "score_table['L1'] = final_results['L1'].astype(int)"
      ],
      "execution_count": 42,
      "outputs": []
    },
    {
      "cell_type": "code",
      "metadata": {
        "id": "Y0glZbLM5oru"
      },
      "source": [
        "score_table['final_score'] = score_table.sum(axis=1)"
      ],
      "execution_count": 43,
      "outputs": []
    },
    {
      "cell_type": "code",
      "metadata": {
        "colab": {
          "base_uri": "https://localhost:8080/",
          "height": 545
        },
        "id": "prLP3ylG5reG",
        "outputId": "d50d268a-7c38-41b1-b8cc-797ed88a6f71"
      },
      "source": [
        "score_table.sort_values('final_score',ascending=0)"
      ],
      "execution_count": 44,
      "outputs": [
        {
          "output_type": "execute_result",
          "data": {
            "text/html": [
              "<div>\n",
              "<style scoped>\n",
              "    .dataframe tbody tr th:only-of-type {\n",
              "        vertical-align: middle;\n",
              "    }\n",
              "\n",
              "    .dataframe tbody tr th {\n",
              "        vertical-align: top;\n",
              "    }\n",
              "\n",
              "    .dataframe thead th {\n",
              "        text-align: right;\n",
              "    }\n",
              "</style>\n",
              "<table border=\"1\" class=\"dataframe\">\n",
              "  <thead>\n",
              "    <tr style=\"text-align: right;\">\n",
              "      <th></th>\n",
              "      <th>index</th>\n",
              "      <th>Chi_Square</th>\n",
              "      <th>RF</th>\n",
              "      <th>Extratrees</th>\n",
              "      <th>RFE</th>\n",
              "      <th>RFECV</th>\n",
              "      <th>L1</th>\n",
              "      <th>final_score</th>\n",
              "    </tr>\n",
              "  </thead>\n",
              "  <tbody>\n",
              "    <tr>\n",
              "      <th>0</th>\n",
              "      <td>texture_mean</td>\n",
              "      <td>1</td>\n",
              "      <td>1</td>\n",
              "      <td>1</td>\n",
              "      <td>1</td>\n",
              "      <td>1</td>\n",
              "      <td>1</td>\n",
              "      <td>6</td>\n",
              "    </tr>\n",
              "    <tr>\n",
              "      <th>1</th>\n",
              "      <td>area_mean</td>\n",
              "      <td>1</td>\n",
              "      <td>1</td>\n",
              "      <td>1</td>\n",
              "      <td>1</td>\n",
              "      <td>1</td>\n",
              "      <td>1</td>\n",
              "      <td>6</td>\n",
              "    </tr>\n",
              "    <tr>\n",
              "      <th>7</th>\n",
              "      <td>area_se</td>\n",
              "      <td>1</td>\n",
              "      <td>1</td>\n",
              "      <td>1</td>\n",
              "      <td>1</td>\n",
              "      <td>1</td>\n",
              "      <td>1</td>\n",
              "      <td>6</td>\n",
              "    </tr>\n",
              "    <tr>\n",
              "      <th>3</th>\n",
              "      <td>concavity_mean</td>\n",
              "      <td>1</td>\n",
              "      <td>1</td>\n",
              "      <td>1</td>\n",
              "      <td>1</td>\n",
              "      <td>1</td>\n",
              "      <td>0</td>\n",
              "      <td>5</td>\n",
              "    </tr>\n",
              "    <tr>\n",
              "      <th>9</th>\n",
              "      <td>concavity_se</td>\n",
              "      <td>1</td>\n",
              "      <td>1</td>\n",
              "      <td>1</td>\n",
              "      <td>1</td>\n",
              "      <td>1</td>\n",
              "      <td>0</td>\n",
              "      <td>5</td>\n",
              "    </tr>\n",
              "    <tr>\n",
              "      <th>12</th>\n",
              "      <td>smoothness_worst</td>\n",
              "      <td>1</td>\n",
              "      <td>1</td>\n",
              "      <td>1</td>\n",
              "      <td>1</td>\n",
              "      <td>1</td>\n",
              "      <td>0</td>\n",
              "      <td>5</td>\n",
              "    </tr>\n",
              "    <tr>\n",
              "      <th>13</th>\n",
              "      <td>concavity_worst</td>\n",
              "      <td>1</td>\n",
              "      <td>1</td>\n",
              "      <td>1</td>\n",
              "      <td>1</td>\n",
              "      <td>1</td>\n",
              "      <td>0</td>\n",
              "      <td>5</td>\n",
              "    </tr>\n",
              "    <tr>\n",
              "      <th>14</th>\n",
              "      <td>symmetry_worst</td>\n",
              "      <td>1</td>\n",
              "      <td>1</td>\n",
              "      <td>1</td>\n",
              "      <td>1</td>\n",
              "      <td>1</td>\n",
              "      <td>0</td>\n",
              "      <td>5</td>\n",
              "    </tr>\n",
              "    <tr>\n",
              "      <th>5</th>\n",
              "      <td>fractal_dimension_mean</td>\n",
              "      <td>0</td>\n",
              "      <td>1</td>\n",
              "      <td>1</td>\n",
              "      <td>1</td>\n",
              "      <td>0</td>\n",
              "      <td>0</td>\n",
              "      <td>3</td>\n",
              "    </tr>\n",
              "    <tr>\n",
              "      <th>15</th>\n",
              "      <td>fractal_dimension_worst</td>\n",
              "      <td>1</td>\n",
              "      <td>0</td>\n",
              "      <td>1</td>\n",
              "      <td>0</td>\n",
              "      <td>0</td>\n",
              "      <td>0</td>\n",
              "      <td>2</td>\n",
              "    </tr>\n",
              "    <tr>\n",
              "      <th>2</th>\n",
              "      <td>smoothness_mean</td>\n",
              "      <td>0</td>\n",
              "      <td>0</td>\n",
              "      <td>0</td>\n",
              "      <td>1</td>\n",
              "      <td>0</td>\n",
              "      <td>0</td>\n",
              "      <td>1</td>\n",
              "    </tr>\n",
              "    <tr>\n",
              "      <th>4</th>\n",
              "      <td>symmetry_mean</td>\n",
              "      <td>1</td>\n",
              "      <td>0</td>\n",
              "      <td>0</td>\n",
              "      <td>0</td>\n",
              "      <td>0</td>\n",
              "      <td>0</td>\n",
              "      <td>1</td>\n",
              "    </tr>\n",
              "    <tr>\n",
              "      <th>11</th>\n",
              "      <td>fractal_dimension_se</td>\n",
              "      <td>0</td>\n",
              "      <td>1</td>\n",
              "      <td>0</td>\n",
              "      <td>0</td>\n",
              "      <td>0</td>\n",
              "      <td>0</td>\n",
              "      <td>1</td>\n",
              "    </tr>\n",
              "    <tr>\n",
              "      <th>6</th>\n",
              "      <td>texture_se</td>\n",
              "      <td>0</td>\n",
              "      <td>0</td>\n",
              "      <td>0</td>\n",
              "      <td>0</td>\n",
              "      <td>0</td>\n",
              "      <td>0</td>\n",
              "      <td>0</td>\n",
              "    </tr>\n",
              "    <tr>\n",
              "      <th>8</th>\n",
              "      <td>smoothness_se</td>\n",
              "      <td>0</td>\n",
              "      <td>0</td>\n",
              "      <td>0</td>\n",
              "      <td>0</td>\n",
              "      <td>0</td>\n",
              "      <td>0</td>\n",
              "      <td>0</td>\n",
              "    </tr>\n",
              "    <tr>\n",
              "      <th>10</th>\n",
              "      <td>symmetry_se</td>\n",
              "      <td>0</td>\n",
              "      <td>0</td>\n",
              "      <td>0</td>\n",
              "      <td>0</td>\n",
              "      <td>0</td>\n",
              "      <td>0</td>\n",
              "      <td>0</td>\n",
              "    </tr>\n",
              "  </tbody>\n",
              "</table>\n",
              "</div>"
            ],
            "text/plain": [
              "                      index  Chi_Square  RF  ...  RFECV  L1  final_score\n",
              "0              texture_mean           1   1  ...      1   1            6\n",
              "1                 area_mean           1   1  ...      1   1            6\n",
              "7                   area_se           1   1  ...      1   1            6\n",
              "3            concavity_mean           1   1  ...      1   0            5\n",
              "9              concavity_se           1   1  ...      1   0            5\n",
              "12         smoothness_worst           1   1  ...      1   0            5\n",
              "13          concavity_worst           1   1  ...      1   0            5\n",
              "14           symmetry_worst           1   1  ...      1   0            5\n",
              "5    fractal_dimension_mean           0   1  ...      0   0            3\n",
              "15  fractal_dimension_worst           1   0  ...      0   0            2\n",
              "2           smoothness_mean           0   0  ...      0   0            1\n",
              "4             symmetry_mean           1   0  ...      0   0            1\n",
              "11     fractal_dimension_se           0   1  ...      0   0            1\n",
              "6                texture_se           0   0  ...      0   0            0\n",
              "8             smoothness_se           0   0  ...      0   0            0\n",
              "10              symmetry_se           0   0  ...      0   0            0\n",
              "\n",
              "[16 rows x 8 columns]"
            ]
          },
          "metadata": {},
          "execution_count": 44
        }
      ]
    },
    {
      "cell_type": "code",
      "metadata": {
        "colab": {
          "base_uri": "https://localhost:8080/"
        },
        "id": "rblR3f9J5tQ1",
        "outputId": "748b3839-10b7-461b-826a-21fc971a95b3"
      },
      "source": [
        "list(score_table['index'][score_table['final_score']>=2])"
      ],
      "execution_count": 45,
      "outputs": [
        {
          "output_type": "execute_result",
          "data": {
            "text/plain": [
              "['texture_mean',\n",
              " 'area_mean',\n",
              " 'concavity_mean',\n",
              " 'fractal_dimension_mean',\n",
              " 'area_se',\n",
              " 'concavity_se',\n",
              " 'smoothness_worst',\n",
              " 'concavity_worst',\n",
              " 'symmetry_worst',\n",
              " 'fractal_dimension_worst']"
            ]
          },
          "metadata": {},
          "execution_count": 45
        }
      ]
    },
    {
      "cell_type": "code",
      "metadata": {
        "colab": {
          "base_uri": "https://localhost:8080/"
        },
        "id": "u7A3NffB5xaB",
        "outputId": "b83b39c4-0e18-4b3a-d116-bf28d743ce2e"
      },
      "source": [
        "list(score_table['index'][score_table['RFE']==1])"
      ],
      "execution_count": 46,
      "outputs": [
        {
          "output_type": "execute_result",
          "data": {
            "text/plain": [
              "['texture_mean',\n",
              " 'area_mean',\n",
              " 'smoothness_mean',\n",
              " 'concavity_mean',\n",
              " 'fractal_dimension_mean',\n",
              " 'area_se',\n",
              " 'concavity_se',\n",
              " 'smoothness_worst',\n",
              " 'concavity_worst',\n",
              " 'symmetry_worst']"
            ]
          },
          "metadata": {},
          "execution_count": 46
        }
      ]
    },
    {
      "cell_type": "code",
      "metadata": {
        "colab": {
          "base_uri": "https://localhost:8080/"
        },
        "id": "qWMlBoGO5y-h",
        "outputId": "e4fb12f3-0c45-4ee5-d4b5-18e492a92e79"
      },
      "source": [
        "list(score_table['index'][score_table['RFECV']==1])"
      ],
      "execution_count": 47,
      "outputs": [
        {
          "output_type": "execute_result",
          "data": {
            "text/plain": [
              "['texture_mean',\n",
              " 'area_mean',\n",
              " 'concavity_mean',\n",
              " 'area_se',\n",
              " 'concavity_se',\n",
              " 'smoothness_worst',\n",
              " 'concavity_worst',\n",
              " 'symmetry_worst']"
            ]
          },
          "metadata": {},
          "execution_count": 47
        }
      ]
    },
    {
      "cell_type": "code",
      "metadata": {
        "colab": {
          "base_uri": "https://localhost:8080/"
        },
        "id": "sMRjpYEx50oB",
        "outputId": "34e859cd-79ca-44dc-8920-73c2c719f375"
      },
      "source": [
        "list(score_table['index'][score_table['Chi_Square']==1])"
      ],
      "execution_count": 48,
      "outputs": [
        {
          "output_type": "execute_result",
          "data": {
            "text/plain": [
              "['texture_mean',\n",
              " 'area_mean',\n",
              " 'concavity_mean',\n",
              " 'symmetry_mean',\n",
              " 'area_se',\n",
              " 'concavity_se',\n",
              " 'smoothness_worst',\n",
              " 'concavity_worst',\n",
              " 'symmetry_worst',\n",
              " 'fractal_dimension_worst']"
            ]
          },
          "metadata": {},
          "execution_count": 48
        }
      ]
    },
    {
      "cell_type": "code",
      "metadata": {
        "colab": {
          "base_uri": "https://localhost:8080/"
        },
        "id": "2ZWvLVCU52YR",
        "outputId": "54c1b8a6-28f0-429a-e343-bf5af2257e3a"
      },
      "source": [
        "list(score_table['index'][score_table['RF']==1])"
      ],
      "execution_count": 49,
      "outputs": [
        {
          "output_type": "execute_result",
          "data": {
            "text/plain": [
              "['texture_mean',\n",
              " 'area_mean',\n",
              " 'concavity_mean',\n",
              " 'fractal_dimension_mean',\n",
              " 'area_se',\n",
              " 'concavity_se',\n",
              " 'fractal_dimension_se',\n",
              " 'smoothness_worst',\n",
              " 'concavity_worst',\n",
              " 'symmetry_worst']"
            ]
          },
          "metadata": {},
          "execution_count": 49
        }
      ]
    },
    {
      "cell_type": "code",
      "metadata": {
        "colab": {
          "base_uri": "https://localhost:8080/"
        },
        "id": "HOUkbAmV54ph",
        "outputId": "5cb187eb-bb38-4537-f0f2-c1c0aa039cf1"
      },
      "source": [
        "list(score_table['index'][score_table['L1']==1])"
      ],
      "execution_count": 50,
      "outputs": [
        {
          "output_type": "execute_result",
          "data": {
            "text/plain": [
              "['texture_mean', 'area_mean', 'area_se']"
            ]
          },
          "metadata": {},
          "execution_count": 50
        }
      ]
    },
    {
      "cell_type": "code",
      "metadata": {
        "colab": {
          "base_uri": "https://localhost:8080/"
        },
        "id": "l26XHKEn57Pa",
        "outputId": "87ca82eb-4def-44ac-974c-a1e653856a38"
      },
      "source": [
        "list(score_table['index'][score_table['Extratrees']==1])"
      ],
      "execution_count": 51,
      "outputs": [
        {
          "output_type": "execute_result",
          "data": {
            "text/plain": [
              "['texture_mean',\n",
              " 'area_mean',\n",
              " 'concavity_mean',\n",
              " 'fractal_dimension_mean',\n",
              " 'area_se',\n",
              " 'concavity_se',\n",
              " 'smoothness_worst',\n",
              " 'concavity_worst',\n",
              " 'symmetry_worst',\n",
              " 'fractal_dimension_worst']"
            ]
          },
          "metadata": {},
          "execution_count": 51
        }
      ]
    },
    {
      "cell_type": "code",
      "metadata": {
        "id": "usLmkGI-59Yv"
      },
      "source": [
        "from statsmodels.stats.outliers_influence import variance_inflation_factor"
      ],
      "execution_count": 52,
      "outputs": []
    },
    {
      "cell_type": "code",
      "metadata": {
        "id": "keRwJ_6o6AZl"
      },
      "source": [
        "def calculate_vif(features):\n",
        "    vif = pd.DataFrame()\n",
        "    vif[\"Features\"] = features.columns\n",
        "    vif[\"VIF\"] = [variance_inflation_factor(features.values, i) for i in range(features.shape[1])]\n",
        "    return(vif)"
      ],
      "execution_count": 53,
      "outputs": []
    },
    {
      "cell_type": "code",
      "metadata": {
        "id": "omEncrKl6B9d"
      },
      "source": [
        "vif = calculate_vif(x_train)\n",
        "while vif['VIF'][vif['VIF'] > 10].any():\n",
        "    remove = vif.sort_values('VIF',ascending=0)['Features'][:1]\n",
        "    x_train.drop(remove,axis=1,inplace=True)\n",
        "    vif = calculate_vif(x_train)"
      ],
      "execution_count": 54,
      "outputs": []
    },
    {
      "cell_type": "code",
      "metadata": {
        "colab": {
          "base_uri": "https://localhost:8080/",
          "height": 235
        },
        "id": "DqXTq5hU6D7l",
        "outputId": "5d072acc-ee49-45c3-fe34-9dc7483a642e"
      },
      "source": [
        "vif"
      ],
      "execution_count": 55,
      "outputs": [
        {
          "output_type": "execute_result",
          "data": {
            "text/html": [
              "<div>\n",
              "<style scoped>\n",
              "    .dataframe tbody tr th:only-of-type {\n",
              "        vertical-align: middle;\n",
              "    }\n",
              "\n",
              "    .dataframe tbody tr th {\n",
              "        vertical-align: top;\n",
              "    }\n",
              "\n",
              "    .dataframe thead th {\n",
              "        text-align: right;\n",
              "    }\n",
              "</style>\n",
              "<table border=\"1\" class=\"dataframe\">\n",
              "  <thead>\n",
              "    <tr style=\"text-align: right;\">\n",
              "      <th></th>\n",
              "      <th>Features</th>\n",
              "      <th>VIF</th>\n",
              "    </tr>\n",
              "  </thead>\n",
              "  <tbody>\n",
              "    <tr>\n",
              "      <th>0</th>\n",
              "      <td>texture_se</td>\n",
              "      <td>7.74</td>\n",
              "    </tr>\n",
              "    <tr>\n",
              "      <th>1</th>\n",
              "      <td>area_se</td>\n",
              "      <td>2.01</td>\n",
              "    </tr>\n",
              "    <tr>\n",
              "      <th>2</th>\n",
              "      <td>smoothness_se</td>\n",
              "      <td>7.33</td>\n",
              "    </tr>\n",
              "    <tr>\n",
              "      <th>3</th>\n",
              "      <td>concavity_se</td>\n",
              "      <td>4.11</td>\n",
              "    </tr>\n",
              "    <tr>\n",
              "      <th>4</th>\n",
              "      <td>symmetry_se</td>\n",
              "      <td>8.41</td>\n",
              "    </tr>\n",
              "    <tr>\n",
              "      <th>5</th>\n",
              "      <td>concavity_worst</td>\n",
              "      <td>4.46</td>\n",
              "    </tr>\n",
              "  </tbody>\n",
              "</table>\n",
              "</div>"
            ],
            "text/plain": [
              "          Features  VIF\n",
              "0       texture_se 7.74\n",
              "1          area_se 2.01\n",
              "2    smoothness_se 7.33\n",
              "3     concavity_se 4.11\n",
              "4      symmetry_se 8.41\n",
              "5  concavity_worst 4.46"
            ]
          },
          "metadata": {},
          "execution_count": 55
        }
      ]
    },
    {
      "cell_type": "code",
      "metadata": {
        "colab": {
          "base_uri": "https://localhost:8080/",
          "height": 735
        },
        "id": "Cvh_hJgX6FwF",
        "outputId": "c02bff38-aace-4fcd-e4b8-967794ab9c14"
      },
      "source": [
        "x_train, x_test, y_train, y_test = train_test_split(x, y, test_size=0.3, random_state=42)\n",
        "#normalization\n",
        "x_train_N = (x_train-x_train.mean())/(x_train.max()-x_train.min())\n",
        "x_test_N = (x_test-x_test.mean())/(x_test.max()-x_test.min())\n",
        "\n",
        "from sklearn.decomposition import PCA\n",
        "pca = PCA()\n",
        "pca.fit(x_train_N)\n",
        "\n",
        "plt.figure(1, figsize=(14, 13))\n",
        "plt.clf()\n",
        "plt.axes([.2, .2, .7, .7])\n",
        "plt.plot(pca.explained_variance_ratio_, linewidth=2)\n",
        "plt.axis('tight')\n",
        "plt.xlabel('n_components')\n",
        "plt.ylabel('explained_variance_ratio_')"
      ],
      "execution_count": 56,
      "outputs": [
        {
          "output_type": "execute_result",
          "data": {
            "text/plain": [
              "Text(0, 0.5, 'explained_variance_ratio_')"
            ]
          },
          "metadata": {},
          "execution_count": 56
        },
        {
          "output_type": "display_data",
          "data": {
            "image/png": "[encoded data removed]",
            "text/plain": [
              "<Figure size 1008x936 with 1 Axes>"
            ]
          },
          "metadata": {
            "needs_background": "light"
          }
        }
      ]
    },
    {
      "cell_type": "code",
      "metadata": {
        "id": "wM6PvQscipru"
      },
      "source": [
        "data =df"
      ],
      "execution_count": 72,
      "outputs": []
    },
    {
      "cell_type": "code",
      "metadata": {
        "id": "ENeKB4UT6Hkl"
      },
      "source": [
        "from sklearn.manifold import  TSNE\n",
        "dim_reduction = TSNE()\n",
        "dims= dim_reduction.fit_transform(x,y)"
      ],
      "execution_count": 73,
      "outputs": []
    },
    {
      "cell_type": "code",
      "metadata": {
        "colab": {
          "base_uri": "https://localhost:8080/"
        },
        "id": "fSBLkYsVgTRr",
        "outputId": "10b7162c-827d-4b36-980f-f914ec0f426f"
      },
      "source": [
        "data[\"diagnosis\"].values.shape"
      ],
      "execution_count": 74,
      "outputs": [
        {
          "output_type": "execute_result",
          "data": {
            "text/plain": [
              "(569,)"
            ]
          },
          "metadata": {},
          "execution_count": 74
        }
      ]
    },
    {
      "cell_type": "code",
      "metadata": {
        "colab": {
          "base_uri": "https://localhost:8080/",
          "height": 296
        },
        "id": "9SuyqIbqh4VB",
        "outputId": "e15980f6-d7cb-4b2c-e814-ac21ead91c9c"
      },
      "source": [
        "dim_reduction = TSNE(perplexity=50,n_iter=5000)\n",
        "dims= dim_reduction.fit_transform(x,y)\n",
        "rdims = pd.DataFrame(data={\"dim1\":dims[:,0].tolist(),\n",
        "              \"dim2\":dims[:,1].tolist(),\n",
        "              \"diagnosis\":data[\"diagnosis\"].tolist()})\n",
        "sns.scatterplot(data=rdims,x=\"dim1\",y=\"dim2\",hue =\"diagnosis\")"
      ],
      "execution_count": 76,
      "outputs": [
        {
          "output_type": "execute_result",
          "data": {
            "text/plain": [
              "<matplotlib.axes._subplots.AxesSubplot at 0x7fc31be8e6d0>"
            ]
          },
          "metadata": {},
          "execution_count": 76
        },
        {
          "output_type": "display_data",
          "data": {
            "image/png": "[encoded data removed]",
            "text/plain": [
              "<Figure size 432x288 with 1 Axes>"
            ]
          },
          "metadata": {
            "needs_background": "light"
          }
        }
      ]
    },
    {
      "cell_type": "code",
      "metadata": {
        "colab": {
          "base_uri": "https://localhost:8080/",
          "height": 296
        },
        "id": "LXgnc59liCRz",
        "outputId": "74cb8f29-76be-4a65-ddbd-d231aefcd9a4"
      },
      "source": [
        "dim_reduction = TSNE(perplexity=30,n_iter=5000)\n",
        "dims= dim_reduction.fit_transform(x,y)\n",
        "rdims = pd.DataFrame(data={\"dim1\":dims[:,0].tolist(),\n",
        "              \"dim2\":dims[:,1].tolist(),\n",
        "              \"diagnosis\":data[\"diagnosis\"].tolist()})\n",
        "sns.scatterplot(data=rdims,x=\"dim1\",y=\"dim2\",hue =\"diagnosis\")"
      ],
      "execution_count": 77,
      "outputs": [
        {
          "output_type": "execute_result",
          "data": {
            "text/plain": [
              "<matplotlib.axes._subplots.AxesSubplot at 0x7fc31be00890>"
            ]
          },
          "metadata": {},
          "execution_count": 77
        },
        {
          "output_type": "display_data",
          "data": {
            "image/png": "[encoded data removed]",
            "text/plain": [
              "<Figure size 432x288 with 1 Axes>"
            ]
          },
          "metadata": {
            "needs_background": "light"
          }
        }
      ]
    },
    {
      "cell_type": "markdown",
      "metadata": {
        "id": "jqEVo4WOi8-z"
      },
      "source": [
        "from the above graph we can say that,classification is possible with higher non-linear model"
      ]
    }
  ]
}
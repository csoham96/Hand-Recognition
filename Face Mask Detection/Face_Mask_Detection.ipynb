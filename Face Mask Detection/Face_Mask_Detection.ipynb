{
  "nbformat": 4,
  "nbformat_minor": 0,
  "metadata": {
    "accelerator": "GPU",
    "colab": {
      "name": "Face_Mask_Detection.ipynb",
      "provenance": [],
      "collapsed_sections": []
    },
    "kernelspec": {
      "display_name": "Python 3",
      "name": "python3"
    },
    "language_info": {
      "name": "python"
    }
  },
  "cells": [
    {
      "cell_type": "markdown",
      "metadata": {
        "id": "another-optimum"
      },
      "source": [
        "# Face Mask Detection using Convolutional Neural Networks"
      ]
    },
    {
      "cell_type": "markdown",
      "metadata": {
        "id": "29152de7"
      },
      "source": [
        "## Introduction\n",
        "\n",
        "This project uses a Deep Neural Network, more specifically a Convolutional Neural Network, to differentiate between images of people, with masks, without masks and incorrectly placed masks. Manually built and pretrained networks will be used to perform this classification task.\n",
        "\n",
        "**Face-Mask-Detection-Using-CNN**\n",
        "\n",
        "* Outbreak of the Coronavirus pandemic has created various changes in the lifestyle of everyone around the world.\n",
        "* Among these changes, wearing a mask has been very vital to every individual.\n",
        "* Detection of people who are not wearing masks is a challenge due to the large populations.\n",
        "* This face mask detection project can be used in schools, hospitals, banks, airports etc as a digitalized scanning tool. \n",
        "  - The technique of detecting people’s faces and segregating them into three classes namely the people with masks and people without masks and partial masks is done with the help of image processing and deep learning.\n",
        "* With the help of this project, a person who is monitoring the face mask status for a particular firm can be seated in a remote area and still monitor efficiently and give instructions accordingly.\n",
        "\n",
        "![img](https://d2h0cx97tjks2p.cloudfront.net/blogs/wp-content/uploads/sites/2/2020/07/dataset-with-mask-1536x844.png)"
      ]
    },
    {
      "cell_type": "markdown",
      "metadata": {
        "id": "surprising-uruguay"
      },
      "source": [
        "## Dataset\n",
        "\n",
        "The data for this mini-project is collected from various sources including the masked images from internet and general frontal face images considered as without mask. This dataset consists of 5029 train images and 1059 test images with 3 classes `with_mask`, `without_mask` and `partial_mask`\n",
        "\n",
        "Many people are not correctly wearing their masks due to bad practices, bad behaviors or vulnerability of individuals (e.g., children, old people). For these reasons, several mask wearing campaigns intend to sensitize people about this problem and good practices. In this sense, this work proposes three types of masked face detection dataset; namely, the Correctly Masked Face, the Incorrectly Masked Face and their combination for the global masked face detection. This dataset serves the objective of classifying faces that are: \n",
        "  \n",
        "- Without Mask/ With Mask/ Partial Mask\n",
        "  \n",
        "Note that this dataset contains some annotated (artificially generated) masks to augment the 'masked' data category."
      ]
    },
    {
      "cell_type": "markdown",
      "metadata": {
        "id": "ih-oasWmdZul"
      },
      "source": [
        "## Problem Statement"
      ]
    },
    {
      "cell_type": "markdown",
      "metadata": {
        "id": "qfWGmjNHdZul"
      },
      "source": [
        "To build and implement a Convolutional Neural Network model to classify between masked/unmasked/partially masked faces."
      ]
    },
    {
      "cell_type": "code",
      "metadata": {
        "colab": {
          "base_uri": "https://localhost:8080/"
        },
        "id": "812a816f",
        "outputId": "0e7b173f-2c3e-4d90-dd3f-61bff1691504"
      },
      "source": [
        "#@title Download the data\n",
        "!wget -qq https://cdn.iisc.talentsprint.com/CDS/MiniProjects/MP2_FaceMask_Dataset.zip\n",
        "!unzip -qq MP2_FaceMask_Dataset.zip\n",
        "print(\"Data Downloaded Successfuly!!\")"
      ],
      "execution_count": 1,
      "outputs": [
        {
          "output_type": "stream",
          "name": "stdout",
          "text": [
            "Data Downloaded Successfuly!!\n"
          ]
        }
      ]
    },
    {
      "cell_type": "markdown",
      "metadata": {
        "id": "abstract-stocks"
      },
      "source": [
        "### Import Required packages"
      ]
    },
    {
      "cell_type": "code",
      "metadata": {
        "id": "YG52PDGENRgN"
      },
      "source": [
        "import numpy as np\n",
        "import PIL\n",
        "from matplotlib import pyplot as plt\n",
        "import glob, os\n",
        "from tensorflow import keras\n",
        "from keras.applications.vgg16 import VGG16\n",
        "from tensorflow.keras.applications.resnet50 import ResNet50\n",
        "from keras.preprocessing.image import ImageDataGenerator\n",
        "from keras.models import Sequential\n",
        "from keras.layers import Conv2D, Input, ZeroPadding2D, BatchNormalization, Activation, MaxPooling2D, Flatten, Dense,Dropout\n",
        "from keras.models import Model, load_model\n",
        "from keras.callbacks import TensorBoard, ModelCheckpoint"
      ],
      "execution_count": 5,
      "outputs": []
    },
    {
      "cell_type": "markdown",
      "metadata": {
        "id": "53g0zVbjRV7K"
      },
      "source": [
        "## Data Loading and preprocessing (2 points)"
      ]
    },
    {
      "cell_type": "markdown",
      "metadata": {
        "id": "aYSjwlcSGJq1"
      },
      "source": [
        "### Analyze the shape of images and distribution of classes"
      ]
    },
    {
      "cell_type": "code",
      "metadata": {
        "id": "Z_FC0knCfeFD"
      },
      "source": [
        "# YOUR CODE HERE\n",
        "test_list = glob.glob(\"/content/MP2_FaceMask_Dataset/test/*/*.jpg\")\n",
        "train_list = glob.glob(\"/content/MP2_FaceMask_Dataset/train/*/*.jpg\")"
      ],
      "execution_count": 6,
      "outputs": []
    },
    {
      "cell_type": "code",
      "metadata": {
        "colab": {
          "base_uri": "https://localhost:8080/",
          "height": 282
        },
        "id": "uMBh16O722ea",
        "outputId": "cf50956a-2708-42d7-fc5e-3632968588b9"
      },
      "source": [
        "target_test = list(map(lambda x: x.split('/')[4], test_list))\n",
        "x,y = np.unique(target_test,return_counts=True)\n",
        "plt.bar(x,y)\n",
        "plt.title(\"Split of classes in Test set\")\n",
        "plt.show()"
      ],
      "execution_count": 7,
      "outputs": [
        {
          "output_type": "display_data",
          "data": {
            "image/png": "[encoded data removed]",
            "text/plain": [
              "<Figure size 432x288 with 1 Axes>"
            ]
          },
          "metadata": {
            "needs_background": "light"
          }
        }
      ]
    },
    {
      "cell_type": "code",
      "metadata": {
        "colab": {
          "base_uri": "https://localhost:8080/",
          "height": 282
        },
        "id": "q_5Zx7k5-RgY",
        "outputId": "5e43aae6-32e3-487f-97e4-928fdc31dea3"
      },
      "source": [
        "target_train = list(map(lambda x: x.split('/')[4], train_list))\n",
        "plt.bar(np.unique(target_train,return_counts=True)[0],np.unique(target_train,return_counts=True)[1])\n",
        "plt.title(\"Split of classes in Train set\")\n",
        "plt.show()"
      ],
      "execution_count": 8,
      "outputs": [
        {
          "output_type": "display_data",
          "data": {
            "image/png": "[encoded data removed]",
            "text/plain": [
              "<Figure size 432x288 with 1 Axes>"
            ]
          },
          "metadata": {
            "needs_background": "light"
          }
        }
      ]
    },
    {
      "cell_type": "code",
      "metadata": {
        "id": "AUqx_mM2FnFb",
        "colab": {
          "base_uri": "https://localhost:8080/"
        },
        "outputId": "c738ac87-0b1d-4613-963a-ab5b158c4087"
      },
      "source": [
        "PIL.Image.open(train_list[100]).size\n",
        "train_size = list(map(lambda x: PIL.Image.open(x).size, train_list))\n",
        "np.unique(train_size, return_counts= True)"
      ],
      "execution_count": 9,
      "outputs": [
        {
          "output_type": "execute_result",
          "data": {
            "text/plain": [
              "(array([ 110,  114,  141,  148,  150,  152,  154,  155,  156,  157,  159,\n",
              "         160,  161,  165,  166,  167,  168,  169,  170,  173,  174,  178,\n",
              "         179,  180,  181,  182,  183,  184,  187,  188,  189,  190,  191,\n",
              "         192,  193,  194,  195,  196,  197,  198,  199,  200,  201,  202,\n",
              "         203,  205,  206,  207,  208,  209,  212,  213,  214,  217,  218,\n",
              "         220,  221,  222,  224,  225,  226,  227,  228,  229,  230,  231,\n",
              "         232,  233,  235,  236,  237,  238,  240,  241,  242,  244,  245,\n",
              "         246,  247,  248,  249,  250,  251,  252,  253,  254,  256,  257,\n",
              "         258,  259,  260,  261,  262,  263,  264,  265,  266,  267,  268,\n",
              "         270,  271,  272,  273,  274,  275,  276,  277,  278,  279,  280,\n",
              "         281,  283,  284,  285,  288,  289,  290,  291,  292,  293,  294,\n",
              "         295,  296,  297,  298,  299,  300,  301,  303,  306,  307,  308,\n",
              "         309,  310,  312,  313,  315,  316,  317,  318,  320,  321,  322,\n",
              "         323,  324,  326,  327,  328,  329,  331,  332,  336,  337,  338,\n",
              "         339,  340,  341,  342,  344,  345,  346,  347,  348,  349,  350,\n",
              "         351,  352,  353,  354,  356,  359,  362,  363,  365,  366,  367,\n",
              "         372,  374,  377,  378,  379,  381,  382,  384,  385,  386,  388,\n",
              "         390,  395,  396,  398,  399,  400,  403,  405,  408,  410,  411,\n",
              "         412,  414,  416,  417,  418,  420,  422,  423,  424,  425,  427,\n",
              "         428,  429,  431,  432,  433,  434,  436,  437,  439,  441,  442,\n",
              "         443,  444,  446,  449,  450,  452,  455,  456,  458,  459,  461,\n",
              "         465,  466,  467,  470,  473,  475,  479,  480,  484,  489,  491,\n",
              "         493,  494,  496,  499,  500,  501,  502,  503,  507,  510,  511,\n",
              "         512,  513,  516,  517,  518,  520,  521,  524,  525,  531,  534,\n",
              "         538,  540,  545,  549,  550,  551,  554,  576,  577,  581,  584,\n",
              "         589,  590,  594,  597,  600,  601,  603,  620,  622,  624,  626,\n",
              "         640,  650,  655,  658,  666,  675,  676,  682,  683,  692,  720,\n",
              "         740,  750,  753,  759,  768,  780,  797,  800,  846,  857,  859,\n",
              "         861,  862,  864,  866,  870,  900,  902,  908,  936,  956,  958,\n",
              "         960,  976,  999, 1000, 1001, 1014, 1024, 1029, 1080, 1120, 1200,\n",
              "        1248, 1280, 1300, 1350, 1360, 1390, 1414, 1497, 1500, 1600, 1920,\n",
              "        2121, 2448, 3264, 3456, 4608]),\n",
              " array([   2,    4,    4,    1,    1,    2,    5,    1,    1,    1,    1,\n",
              "        4946,    1,    9,    7,    8,    8,    2,    2,    1,    1,    1,\n",
              "           6,    1,    2,    2,   25,    9,    3,    4,    9,    7,    9,\n",
              "           2,    6,   22,    6,    3,    3,    2,    7,    1,    2,    2,\n",
              "          12,   13,    4,    2,   10,   12,    4,    8,    9,    8,    1,\n",
              "           6,    5,    4,    4,   45,    8,    1,    3,    6,    4,    2,\n",
              "           8,    5,    2,    6,    5,    4,    4,    2,    4,   13,    2,\n",
              "          11,    2,    6,   11,    8,    4,    4,    4,    4,    3,    3,\n",
              "          10,   23,    2,    8,    2,    7,    3,    1,    5,   10,    2,\n",
              "           4,    7,    1,    7,    9,   23,    7,    5,    5,    1,    9,\n",
              "           6,    4,    1,    5,    2,    5,    6,    5,    2,    1,    1,\n",
              "           4,    4,   12,    2,    7,    8,    6,    8,    1,    1,    3,\n",
              "           5,    3,    6,    8,    1,    4,    4,   18,  379,    2,    6,\n",
              "           2,    6,    1,   39,    1,    3,    2,    3,    5,    2,   10,\n",
              "           2,   10,    6,    2,    7,    3,    1,    3,    1,    3,   17,\n",
              "          16,    1,    8,    2,    2,    2,    2,    5,    2,    9,    2,\n",
              "           5,    4,    2,    2,    2,    2,    8,    8,    2,    1,    3,\n",
              "           3,    4,    1,    3,    1,   21,    1,    4,    7,    2,    4,\n",
              "           6,    3,    4,   10,    4,    3,    1,    2,    1,    1,    7,\n",
              "         317,    1,    1,    2,  102,    2,    6,    1,    2,    3,   12,\n",
              "           3,    2,    5,    2,    9,    2,   10,    1,    2,    1,    6,\n",
              "           3,    2,    3,    1,    1,    5,    1,   18,    5,    2,    1,\n",
              "           6,    1,    1,    2,    9,    6,    3,    2,    1,    6,    2,\n",
              "           1,    1,    2,    2,    2,    1,    2,    2,    4,    2,    1,\n",
              "           3,   10,    1,    3,    4,    1,    2,    5,    1,    1,    2,\n",
              "           1,    2,    3,    2,    7,    1,    2,    1,    2,    1,    3,\n",
              "          14,    5,    1,    7,    1,    1,    1,    4,    1,    1,   17,\n",
              "           2,    4,    1,    1,   12,    1,    4,    6,    1,    1,    1,\n",
              "           1,    1,   16,    1,    1,    3,    1,    1,    1,    1,    1,\n",
              "          45,    1,    1,    4,    2,    1, 2596,    1,    2,    1,    6,\n",
              "           1,    1,    1,    1,    3,    1,    1,    1,   11,    1,    2,\n",
              "           1,    4,    4,    4,    4]))"
            ]
          },
          "metadata": {},
          "execution_count": 9
        }
      ]
    },
    {
      "cell_type": "markdown",
      "metadata": {
        "id": "HN1ZYJL8Ts0Q"
      },
      "source": [
        "### Load the images using ImageDataGenerator"
      ]
    },
    {
      "cell_type": "code",
      "metadata": {
        "id": "LqsC5w4f5NOr"
      },
      "source": [
        "TRAINING_DIR = \"/content/MP2_FaceMask_Dataset/train/\"\n",
        "VALIDATION_DIR = \"/content/MP2_FaceMask_Dataset/test/\""
      ],
      "execution_count": 10,
      "outputs": []
    },
    {
      "cell_type": "code",
      "metadata": {
        "colab": {
          "base_uri": "https://localhost:8080/"
        },
        "id": "BBmLkk-zNeZs",
        "outputId": "53b044b7-6874-4a07-9ac6-085098d2c541"
      },
      "source": [
        "# YOUR CODE HERE\n",
        "\n",
        "seed = 32\n",
        "\n",
        "IDG = ImageDataGenerator(\n",
        "    featurewise_center=False,\n",
        "    samplewise_center=False,\n",
        "    featurewise_std_normalization=False,\n",
        "    samplewise_std_normalization=False,\n",
        "    zca_whitening=False,\n",
        "    zca_epsilon=1e-06,\n",
        "    rotation_range=0,\n",
        "    width_shift_range=0.0,\n",
        "    height_shift_range=0.0,\n",
        "    brightness_range=None,\n",
        "    shear_range=0.0,\n",
        "    zoom_range=0.0,\n",
        "    channel_shift_range=0.0,\n",
        "    fill_mode=\"nearest\",\n",
        "    cval=0.0,\n",
        "    horizontal_flip=False,\n",
        "    vertical_flip=False,\n",
        "    rescale=1./255,\n",
        "    preprocessing_function=None,\n",
        "    data_format=None,\n",
        "    validation_split=0.0,\n",
        "    dtype=None,)\n",
        "\n",
        "image_train_generator = IDG.flow_from_directory(\n",
        "    TRAINING_DIR,\n",
        "    target_size=(160, 160),\n",
        "    color_mode=\"rgb\",\n",
        "    classes=None,\n",
        "    class_mode=\"sparse\",\n",
        "    batch_size=1,\n",
        "    shuffle=True,\n",
        "    seed=seed,\n",
        "    save_to_dir=None,\n",
        "    save_prefix=\"\",\n",
        "    save_format=\"png\",\n",
        "    follow_links=False,\n",
        "    subset=None,\n",
        "    interpolation=\"nearest\",\n",
        ")\n",
        "\n",
        "image_validation_generator = IDG.flow_from_directory(\n",
        "    VALIDATION_DIR,\n",
        "    target_size=(160, 160),\n",
        "    color_mode=\"rgb\",\n",
        "    classes=None,\n",
        "    class_mode=\"sparse\",\n",
        "    batch_size=1,\n",
        "    shuffle=True,\n",
        "    seed=seed,\n",
        "    save_to_dir=None,\n",
        "    save_prefix=\"\",\n",
        "    save_format=\"png\",\n",
        "    follow_links=False,\n",
        "    subset=None,\n",
        "    interpolation=\"nearest\",\n",
        ")\n"
      ],
      "execution_count": 11,
      "outputs": [
        {
          "output_type": "stream",
          "name": "stdout",
          "text": [
            "Found 5029 images belonging to 3 classes.\n",
            "Found 1259 images belonging to 3 classes.\n"
          ]
        }
      ]
    },
    {
      "cell_type": "markdown",
      "metadata": {
        "id": "vdQY-dzZeqWm"
      },
      "source": [
        "### Visualize the sample images of each class using data generator"
      ]
    },
    {
      "cell_type": "code",
      "metadata": {
        "colab": {
          "base_uri": "https://localhost:8080/",
          "height": 150
        },
        "id": "HCgAcqdGewsb",
        "outputId": "39c008ae-49eb-447d-bcea-bf91403714d6"
      },
      "source": [
        "train_classes = image_train_generator.classes\n",
        "idx0 = np.where(train_classes == 0)[0][21]\n",
        "idx1 = np.where(train_classes == 1)[0][12]\n",
        "idx2 = np.where(train_classes == 2)[0][200]\n",
        "\n",
        "fig, ax = plt.subplots(1,3)\n",
        "for a, b in enumerate([idx0,idx1,idx2]):\n",
        "  ax[a].imshow(PIL.Image.fromarray(np.asarray(image_train_generator._get_batches_of_transformed_samples([b])[0]*255, dtype= np.uint8).reshape(160,160,3)))"
      ],
      "execution_count": 12,
      "outputs": [
        {
          "output_type": "display_data",
          "data": {
            "image/png": "[encoded data removed]",
            "text/plain": [
              "<Figure size 432x288 with 3 Axes>"
            ]
          },
          "metadata": {
            "needs_background": "light"
          }
        }
      ]
    },
    {
      "cell_type": "code",
      "metadata": {
        "colab": {
          "base_uri": "https://localhost:8080/"
        },
        "id": "zYnQHd-gU7KT",
        "outputId": "924e0c49-5c89-41b4-d6dd-724d32a9de05"
      },
      "source": [
        "image_train_generator._get_batches_of_transformed_samples([4000])[0].shape"
      ],
      "execution_count": 13,
      "outputs": [
        {
          "output_type": "execute_result",
          "data": {
            "text/plain": [
              "(1, 160, 160, 3)"
            ]
          },
          "metadata": {},
          "execution_count": 13
        }
      ]
    },
    {
      "cell_type": "markdown",
      "metadata": {
        "id": "zkOr1nhNT5yD"
      },
      "source": [
        "## Build the CNN model using Keras\n",
        "\n"
      ]
    },
    {
      "cell_type": "markdown",
      "metadata": {
        "id": "x1GGjQTfTIoO"
      },
      "source": [
        "**Convolutional Neural Network:** A neural network in which at least one layer is a convolutional layer. A typical convolutional neural network consists of some combination of the following layers:\n",
        "\n",
        "* convolutional layers\n",
        "* pooling layers\n",
        "* dense layers\n",
        "\n",
        "\n",
        "**Conv2D**  \n",
        "\n",
        "Passing an image with input shape of 3-D and to calculate the output: \n",
        "\n",
        " $O = \\frac{n - f + 2p}{s} + 1$\n",
        "\n",
        "**MaxPool** \n",
        "\n",
        "The resulting output, when using the \"valid\" padding option, has a spatial shape (number of rows or columns) of: \n",
        "\n",
        "O = `math.floor`$(\\frac{input shape - pool size)}{ strides}) + 1$ (when input shape >= pool size)\n",
        "\n",
        "The resulting output shape when using the \"same\" padding option is: \n",
        "\n",
        "O = `math.floor`$(\\frac{input shape - 1}{strides}) + 1$\n",
        "\n",
        "by default, stride = None, so stride is same as pool size"
      ]
    },
    {
      "cell_type": "code",
      "metadata": {
        "id": "TdaobFneNaJO",
        "colab": {
          "base_uri": "https://localhost:8080/"
        },
        "outputId": "9835d4a9-c46c-4271-ed86-b00825d63710"
      },
      "source": [
        "\n",
        "\n",
        "model = Sequential([\n",
        "                    Conv2D(64, 7, activation=\"relu\", padding=\"same\", input_shape=[224, 224, 3]),\n",
        "                    MaxPooling2D(2),\n",
        "                    Conv2D(128, 3, activation=\"relu\", padding=\"same\"),\n",
        "                    Conv2D(128, 3, activation=\"relu\", padding=\"same\"),\n",
        "                    MaxPooling2D(2),\n",
        "                    Conv2D(256, 3, activation=\"relu\", padding=\"same\"),\n",
        "                    Conv2D(256, 3, activation=\"relu\", padding=\"same\"),\n",
        "                    MaxPooling2D(2),\n",
        "                    Flatten(),\n",
        "                    Dense(128, activation=\"relu\"),\n",
        "                    Dropout(0.5),\n",
        "                    Dense(64, activation=\"relu\"),\n",
        "                    Dropout(0.5),\n",
        "                    Dense(3, activation=\"softmax\")\n",
        "                    ])\n",
        "model.compile(loss=\"sparse_categorical_crossentropy\", optimizer=\"adam\", metrics=[\"accuracy\"])\n",
        "\n",
        "batch_size = 64\n",
        "\n",
        "image_train_generator = IDG.flow_from_directory(\n",
        "    TRAINING_DIR,\n",
        "    target_size=(224, 224),\n",
        "    color_mode=\"rgb\",\n",
        "    classes=None,\n",
        "    class_mode=\"sparse\",\n",
        "    batch_size=batch_size,\n",
        "    shuffle=True,\n",
        "    seed=seed,\n",
        "    save_to_dir=None,\n",
        "    save_prefix=\"\",\n",
        "    save_format=\"png\",\n",
        "    follow_links=False,\n",
        "    subset=None,\n",
        "    interpolation=\"nearest\",\n",
        ")\n",
        "\n",
        "image_validation_generator = IDG.flow_from_directory(\n",
        "    VALIDATION_DIR,\n",
        "    target_size=(224, 224),\n",
        "    color_mode=\"rgb\",\n",
        "    classes=None,\n",
        "    class_mode=\"sparse\",\n",
        "    batch_size=batch_size,\n",
        "    shuffle=True,\n",
        "    seed=seed,\n",
        "    save_to_dir=None,\n",
        "    save_prefix=\"\",\n",
        "    save_format=\"png\",\n",
        "    follow_links=False,\n",
        "    subset=None,\n",
        "    interpolation=\"nearest\",\n",
        ")\n",
        "\n",
        "# image_train_generator.next()[1].shape\n",
        "\n",
        "history = model.fit(image_train_generator, epochs = 8, validation_data = image_validation_generator)"
      ],
      "execution_count": 14,
      "outputs": [
        {
          "output_type": "stream",
          "name": "stdout",
          "text": [
            "Found 5029 images belonging to 3 classes.\n",
            "Found 1259 images belonging to 3 classes.\n",
            "Epoch 1/8\n",
            "79/79 [==============================] - 134s 1s/step - loss: 0.6320 - accuracy: 0.7512 - val_loss: 0.3205 - val_accuracy: 0.8967\n",
            "Epoch 2/8\n",
            "79/79 [==============================] - 70s 877ms/step - loss: 0.2688 - accuracy: 0.9121 - val_loss: 0.2108 - val_accuracy: 0.9309\n",
            "Epoch 3/8\n",
            "79/79 [==============================] - 70s 878ms/step - loss: 0.2505 - accuracy: 0.9217 - val_loss: 0.1476 - val_accuracy: 0.9611\n",
            "Epoch 4/8\n",
            "79/79 [==============================] - 69s 873ms/step - loss: 0.1899 - accuracy: 0.9401 - val_loss: 0.1662 - val_accuracy: 0.9547\n",
            "Epoch 5/8\n",
            "79/79 [==============================] - 69s 872ms/step - loss: 0.1731 - accuracy: 0.9461 - val_loss: 0.1406 - val_accuracy: 0.9627\n",
            "Epoch 6/8\n",
            "79/79 [==============================] - 69s 874ms/step - loss: 0.1347 - accuracy: 0.9628 - val_loss: 0.1093 - val_accuracy: 0.9698\n",
            "Epoch 7/8\n",
            "79/79 [==============================] - 69s 874ms/step - loss: 0.1288 - accuracy: 0.9614 - val_loss: 0.1006 - val_accuracy: 0.9746\n",
            "Epoch 8/8\n",
            "79/79 [==============================] - 69s 872ms/step - loss: 0.1272 - accuracy: 0.9646 - val_loss: 0.1217 - val_accuracy: 0.9579\n"
          ]
        }
      ]
    },
    {
      "cell_type": "code",
      "metadata": {
        "id": "fYIDQWDTfnsi",
        "colab": {
          "base_uri": "https://localhost:8080/"
        },
        "outputId": "b27dc400-b84e-4887-8005-2f0e134ab383"
      },
      "source": [
        "model.evaluate(image_validation_generator)"
      ],
      "execution_count": 15,
      "outputs": [
        {
          "output_type": "stream",
          "name": "stdout",
          "text": [
            "20/20 [==============================] - 10s 469ms/step - loss: 0.1217 - accuracy: 0.9579\n"
          ]
        },
        {
          "output_type": "execute_result",
          "data": {
            "text/plain": [
              "[0.12172197550535202, 0.9579030871391296]"
            ]
          },
          "metadata": {},
          "execution_count": 15
        }
      ]
    },
    {
      "cell_type": "markdown",
      "metadata": {
        "id": "0lMUVOj0UdAi"
      },
      "source": [
        "\n",
        "* Load the pre-trained model\n",
        "* Fit and evaluate the data\n",
        "\n"
      ]
    },
    {
      "cell_type": "code",
      "metadata": {
        "id": "nx2Z2vLZqXm0",
        "colab": {
          "base_uri": "https://localhost:8080/"
        },
        "outputId": "8855e5e8-199e-40fe-dbe7-d0235c1d0c6d"
      },
      "source": [
        "# YOUR CODE HERE\n",
        "\n",
        "modelV = tf.keras.Sequential([\n",
        "                    VGG16(include_top=False, weights='imagenet', input_tensor=None,\n",
        "    pooling= None, input_shape = (224,224, 3),\n",
        "    classifier_activation='softmax'),\n",
        "                    Flatten(),\n",
        "                    Dense(3, activation=\"softmax\")\n",
        "                    ])\n",
        "\n",
        "\n",
        "modelV.compile(loss=\"sparse_categorical_crossentropy\", optimizer=\"adam\", metrics=[\"accuracy\"])"
      ],
      "execution_count": 16,
      "outputs": [
        {
          "output_type": "stream",
          "name": "stdout",
          "text": [
            "Downloading data from https://storage.googleapis.com/tensorflow/keras-applications/vgg16/vgg16_weights_tf_dim_ordering_tf_kernels_notop.h5\n",
            "58892288/58889256 [==============================] - 1s 0us/step\n",
            "58900480/58889256 [==============================] - 1s 0us/step\n"
          ]
        }
      ]
    },
    {
      "cell_type": "code",
      "metadata": {
        "id": "B123Frb-oQ-w",
        "colab": {
          "base_uri": "https://localhost:8080/"
        },
        "outputId": "92f3ba9d-907d-4118-83bf-6c81d8a8f02c"
      },
      "source": [
        "history = modelV.fit(image_train_generator, epochs = 5, validation_data = image_validation_generator)"
      ],
      "execution_count": 17,
      "outputs": [
        {
          "output_type": "stream",
          "name": "stdout",
          "text": [
            "Epoch 1/5\n",
            "79/79 [==============================] - 154s 2s/step - loss: 0.9293 - accuracy: 0.6490 - val_loss: 0.1877 - val_accuracy: 0.9420\n",
            "Epoch 2/5\n",
            "79/79 [==============================] - 126s 2s/step - loss: 0.1597 - accuracy: 0.9477 - val_loss: 0.1386 - val_accuracy: 0.9611\n",
            "Epoch 3/5\n",
            "79/79 [==============================] - 126s 2s/step - loss: 0.1226 - accuracy: 0.9624 - val_loss: 0.1285 - val_accuracy: 0.9635\n",
            "Epoch 4/5\n",
            "79/79 [==============================] - 126s 2s/step - loss: 0.0951 - accuracy: 0.9694 - val_loss: 0.0997 - val_accuracy: 0.9746\n",
            "Epoch 5/5\n",
            "79/79 [==============================] - 126s 2s/step - loss: 0.0980 - accuracy: 0.9674 - val_loss: 0.1063 - val_accuracy: 0.9651\n"
          ]
        }
      ]
    },
    {
      "cell_type": "code",
      "metadata": {
        "id": "w50O1gOcDUbW",
        "colab": {
          "base_uri": "https://localhost:8080/"
        },
        "outputId": "b19b497a-abbf-44fe-f4e7-4170acb956d6"
      },
      "source": [
        "modelR = tf.keras.Sequential([\n",
        "                    ResNet50(include_top=False, weights='imagenet', input_tensor=None,\n",
        "    pooling= None, input_shape = (224,224, 3),\n",
        "    classifier_activation='softmax'),\n",
        "                    Flatten(),\n",
        "                    Dense(3, activation=\"softmax\")\n",
        "                    ])\n",
        "\n",
        "\n",
        "modelR.compile(loss=\"sparse_categorical_crossentropy\", optimizer=\"adam\", metrics=[\"accuracy\"])"
      ],
      "execution_count": 18,
      "outputs": [
        {
          "output_type": "stream",
          "name": "stdout",
          "text": [
            "Downloading data from https://storage.googleapis.com/tensorflow/keras-applications/resnet/resnet50_weights_tf_dim_ordering_tf_kernels_notop.h5\n",
            "94773248/94765736 [==============================] - 1s 0us/step\n",
            "94781440/94765736 [==============================] - 1s 0us/step\n"
          ]
        }
      ]
    },
    {
      "cell_type": "code",
      "metadata": {
        "id": "uPN6sNhAENhb",
        "colab": {
          "base_uri": "https://localhost:8080/"
        },
        "outputId": "511eea85-115d-4080-bb75-dc77968f62bf"
      },
      "source": [
        "history = modelR.fit(image_train_generator, epochs = 5, validation_data = image_validation_generator)"
      ],
      "execution_count": 19,
      "outputs": [
        {
          "output_type": "stream",
          "name": "stdout",
          "text": [
            "Epoch 1/5\n",
            "79/79 [==============================] - 130s 2s/step - loss: 0.4879 - accuracy: 0.9419 - val_loss: 1.1643 - val_accuracy: 0.4241\n",
            "Epoch 2/5\n",
            "79/79 [==============================] - 115s 1s/step - loss: 0.1384 - accuracy: 0.9757 - val_loss: 1.0794 - val_accuracy: 0.4241\n",
            "Epoch 3/5\n",
            "79/79 [==============================] - 115s 1s/step - loss: 0.1012 - accuracy: 0.9843 - val_loss: 1.0695 - val_accuracy: 0.4424\n",
            "Epoch 4/5\n",
            "79/79 [==============================] - 114s 1s/step - loss: 0.6775 - accuracy: 0.9686 - val_loss: 221444.6719 - val_accuracy: 0.2566\n",
            "Epoch 5/5\n",
            "79/79 [==============================] - 114s 1s/step - loss: 0.2771 - accuracy: 0.9561 - val_loss: 1.0877 - val_accuracy: 0.4241\n"
          ]
        }
      ]
    }
  ]
}